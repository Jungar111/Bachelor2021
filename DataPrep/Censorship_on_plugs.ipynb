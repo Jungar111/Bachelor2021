{
 "metadata": {
  "orig_nbformat": 2,
  "kernelspec": {
   "name": "pythonjvsc74a57bd059fd5f8a430795c13ac3d8bfcb709109ed9a027f57069bd26c0faa31c7520fc1",
   "display_name": "Python 3.7.4 64-bit ('env': venv)"
  },
  "metadata": {
   "interpreter": {
    "hash": "59fd5f8a430795c13ac3d8bfcb709109ed9a027f57069bd26c0faa31c7520fc1"
   }
  }
 },
 "nbformat": 4,
 "nbformat_minor": 2,
 "cells": [
  {
   "cell_type": "code",
   "execution_count": 2,
   "metadata": {},
   "outputs": [
    {
     "output_type": "stream",
     "name": "stdout",
     "text": [
      "c:\\Users\\frede\\OneDrive - Danmarks Tekniske Universitet\\DTU\\6. Semester\\Bachelor2021-1\n"
     ]
    }
   ],
   "source": [
    "import sys\n",
    "sys.path.append(\"..\")\n",
    "%cd .."
   ]
  },
  {
   "cell_type": "code",
   "execution_count": 3,
   "metadata": {},
   "outputs": [],
   "source": [
    "from DataPrep.load_data import load_data\n",
    "import pyforest"
   ]
  },
  {
   "cell_type": "code",
   "execution_count": 44,
   "metadata": {},
   "outputs": [
    {
     "output_type": "display_data",
     "data": {
      "text/plain": "<IPython.core.display.Javascript object>",
      "application/javascript": "\n        if (window._pyforest_update_imports_cell) { window._pyforest_update_imports_cell('import pandas as pd\\nimport numpy as np'); }\n    "
     },
     "metadata": {}
    },
    {
     "output_type": "display_data",
     "data": {
      "text/plain": "<IPython.core.display.Javascript object>",
      "application/javascript": "\n        if (window._pyforest_update_imports_cell) { window._pyforest_update_imports_cell('import pandas as pd\\nimport numpy as np'); }\n    "
     },
     "metadata": {}
    }
   ],
   "source": [
    "df = pd.read_csv(\"data\\createdDat\\Data_Oskar\\df_11052021.csv\")\n",
    "plug = pd.read_csv(\"data\\createdDat\\Data_Oskar\\plugdf_11052021.csv\")"
   ]
  },
  {
   "cell_type": "code",
   "execution_count": 57,
   "metadata": {},
   "outputs": [],
   "source": [
    "def get_censored(df):\n",
    "    df = df.drop(columns=[\"Unnamed: 0\",\"Latitude\",\"Longitude\",\"CenterLat\",\"CenterLon\", \"Port Number\", \"Plug Type\"])\n",
    "    df[\"Start Date\"] = pd.to_datetime(df[\"Start Date\"]) \n",
    "    test = pd.DataFrame(columns=list(df.columns))\n",
    "    for label in range(8):\n",
    "        maks = plug[\"Date\"][plug[\"Label\"]==label][plug[plug[\"Label\"]==label][\"Plugs\"]==plug[plug[\"Label\"]==label][\"Plugs\"].max()]\n",
    "        intercept = maks[maks.index[label]]\n",
    "        macs_until_intercept = df[(df[\"Label\"]==label) & (df[\"Start Date\"].dt.date<pd.to_datetime(intercept))][\"MAC Address\"].unique()\n",
    "        liste = df[df[\"Label\"]==label][\"MAC Address\"].isin(macs_until_intercept)\n",
    "\n",
    "        test = test.append(df[(df[\"Label\"]==label) & (liste)])\n",
    "    \n",
    "    return test\n",
    "    \n",
    "\n"
   ]
  },
  {
   "cell_type": "code",
   "execution_count": 58,
   "metadata": {},
   "outputs": [
    {
     "output_type": "display_data",
     "data": {
      "text/plain": "<IPython.core.display.Javascript object>",
      "application/javascript": "\n        if (window._pyforest_update_imports_cell) { window._pyforest_update_imports_cell('import pandas as pd\\nimport numpy as np'); }\n    "
     },
     "metadata": {}
    },
    {
     "output_type": "display_data",
     "data": {
      "text/plain": "<IPython.core.display.Javascript object>",
      "application/javascript": "\n        if (window._pyforest_update_imports_cell) { window._pyforest_update_imports_cell('import pandas as pd\\nimport numpy as np'); }\n    "
     },
     "metadata": {}
    },
    {
     "output_type": "display_data",
     "data": {
      "text/plain": "<IPython.core.display.Javascript object>",
      "application/javascript": "\n        if (window._pyforest_update_imports_cell) { window._pyforest_update_imports_cell('import pandas as pd\\nimport numpy as np'); }\n    "
     },
     "metadata": {}
    },
    {
     "output_type": "display_data",
     "data": {
      "text/plain": "<IPython.core.display.Javascript object>",
      "application/javascript": "\n        if (window._pyforest_update_imports_cell) { window._pyforest_update_imports_cell('import pandas as pd\\nimport numpy as np'); }\n    "
     },
     "metadata": {}
    },
    {
     "output_type": "display_data",
     "data": {
      "text/plain": "<IPython.core.display.Javascript object>",
      "application/javascript": "\n        if (window._pyforest_update_imports_cell) { window._pyforest_update_imports_cell('import pandas as pd\\nimport numpy as np'); }\n    "
     },
     "metadata": {}
    },
    {
     "output_type": "display_data",
     "data": {
      "text/plain": "<IPython.core.display.Javascript object>",
      "application/javascript": "\n        if (window._pyforest_update_imports_cell) { window._pyforest_update_imports_cell('import pandas as pd\\nimport numpy as np'); }\n    "
     },
     "metadata": {}
    },
    {
     "output_type": "display_data",
     "data": {
      "text/plain": "<IPython.core.display.Javascript object>",
      "application/javascript": "\n        if (window._pyforest_update_imports_cell) { window._pyforest_update_imports_cell('import pandas as pd\\nimport numpy as np'); }\n    "
     },
     "metadata": {}
    },
    {
     "output_type": "display_data",
     "data": {
      "text/plain": "<IPython.core.display.Javascript object>",
      "application/javascript": "\n        if (window._pyforest_update_imports_cell) { window._pyforest_update_imports_cell('import pandas as pd\\nimport numpy as np'); }\n    "
     },
     "metadata": {}
    },
    {
     "output_type": "display_data",
     "data": {
      "text/plain": "<IPython.core.display.Javascript object>",
      "application/javascript": "\n        if (window._pyforest_update_imports_cell) { window._pyforest_update_imports_cell('import pandas as pd\\nimport numpy as np'); }\n    "
     },
     "metadata": {}
    },
    {
     "output_type": "display_data",
     "data": {
      "text/plain": "<IPython.core.display.Javascript object>",
      "application/javascript": "\n        if (window._pyforest_update_imports_cell) { window._pyforest_update_imports_cell('import pandas as pd\\nimport numpy as np'); }\n    "
     },
     "metadata": {}
    }
   ],
   "source": [
    "test = get_censored(df)"
   ]
  },
  {
   "cell_type": "code",
   "execution_count": 59,
   "metadata": {},
   "outputs": [
    {
     "output_type": "execute_result",
     "data": {
      "text/plain": [
       "                     Station Name       MAC Address          Start Date  \\\n",
       "390      PALO ALTO CA / BRYANT #2  000D6F0000A2108E 2011-10-10 15:23:00   \n",
       "392      PALO ALTO CA / BRYANT #2  000D6F0000A2108E 2011-10-10 19:14:00   \n",
       "400      PALO ALTO CA / BRYANT #2  000D6F0000A2108E 2011-10-11 15:48:00   \n",
       "404      PALO ALTO CA / BRYANT #2  000D6F0000A2108E 2011-10-12 07:44:00   \n",
       "409      PALO ALTO CA / BRYANT #2  000D6F0000A2108E 2011-10-12 15:26:00   \n",
       "...                           ...               ...                 ...   \n",
       "132777  PALO ALTO CA / WEBSTER #1  0024B10000021146 2017-08-03 17:40:00   \n",
       "132779  PALO ALTO CA / WEBSTER #3  0024B100000213D1 2017-08-03 17:44:00   \n",
       "132795  PALO ALTO CA / WEBSTER #3  0024B100000213D1 2017-08-03 19:04:00   \n",
       "132800  PALO ALTO CA / WEBSTER #3  0024B100000213D1 2017-08-03 19:46:00   \n",
       "132813  PALO ALTO CA / WEBSTER #3  0024B100000213D1 2017-08-03 21:47:00   \n",
       "\n",
       "                   End Date  Total Duration (mins)  Charging Time (mins)  \\\n",
       "390     2011-10-10 15:23:00             274.633333            157.100000   \n",
       "392     2011-10-10 21:18:00             124.216667            123.966667   \n",
       "400     2011-10-11 19:32:00             224.383333            218.883333   \n",
       "404     2011-10-12 10:54:00             189.516667            121.216667   \n",
       "409     2011-10-12 17:49:00             143.866667            143.866667   \n",
       "...                     ...                    ...                   ...   \n",
       "132777  2017-08-03 20:47:00             186.066667            149.266667   \n",
       "132779  2017-08-03 20:47:00             182.166667            128.533333   \n",
       "132795  2017-08-03 19:38:00              33.933333             33.750000   \n",
       "132800  2017-08-03 21:17:00              91.483333             80.583333   \n",
       "132813  2017-08-03 22:16:00              28.433333             28.233333   \n",
       "\n",
       "        Energy (kWh)  Fee (USD) Label  \n",
       "390         9.155255       0.00     0  \n",
       "392         7.609224       0.00     0  \n",
       "400        13.397377       0.00     0  \n",
       "404         7.312490       0.00     0  \n",
       "409         8.703846       0.00     0  \n",
       "...              ...        ...   ...  \n",
       "132777      7.714000       1.80     7  \n",
       "132779     12.505000       3.43     7  \n",
       "132795      2.085000       0.48     7  \n",
       "132800      3.999000       0.92     7  \n",
       "132813      2.728000       0.63     7  \n",
       "\n",
       "[174137 rows x 9 columns]"
      ],
      "text/html": "<div>\n<style scoped>\n    .dataframe tbody tr th:only-of-type {\n        vertical-align: middle;\n    }\n\n    .dataframe tbody tr th {\n        vertical-align: top;\n    }\n\n    .dataframe thead th {\n        text-align: right;\n    }\n</style>\n<table border=\"1\" class=\"dataframe\">\n  <thead>\n    <tr style=\"text-align: right;\">\n      <th></th>\n      <th>Station Name</th>\n      <th>MAC Address</th>\n      <th>Start Date</th>\n      <th>End Date</th>\n      <th>Total Duration (mins)</th>\n      <th>Charging Time (mins)</th>\n      <th>Energy (kWh)</th>\n      <th>Fee (USD)</th>\n      <th>Label</th>\n    </tr>\n  </thead>\n  <tbody>\n    <tr>\n      <th>390</th>\n      <td>PALO ALTO CA / BRYANT #2</td>\n      <td>000D6F0000A2108E</td>\n      <td>2011-10-10 15:23:00</td>\n      <td>2011-10-10 15:23:00</td>\n      <td>274.633333</td>\n      <td>157.100000</td>\n      <td>9.155255</td>\n      <td>0.00</td>\n      <td>0</td>\n    </tr>\n    <tr>\n      <th>392</th>\n      <td>PALO ALTO CA / BRYANT #2</td>\n      <td>000D6F0000A2108E</td>\n      <td>2011-10-10 19:14:00</td>\n      <td>2011-10-10 21:18:00</td>\n      <td>124.216667</td>\n      <td>123.966667</td>\n      <td>7.609224</td>\n      <td>0.00</td>\n      <td>0</td>\n    </tr>\n    <tr>\n      <th>400</th>\n      <td>PALO ALTO CA / BRYANT #2</td>\n      <td>000D6F0000A2108E</td>\n      <td>2011-10-11 15:48:00</td>\n      <td>2011-10-11 19:32:00</td>\n      <td>224.383333</td>\n      <td>218.883333</td>\n      <td>13.397377</td>\n      <td>0.00</td>\n      <td>0</td>\n    </tr>\n    <tr>\n      <th>404</th>\n      <td>PALO ALTO CA / BRYANT #2</td>\n      <td>000D6F0000A2108E</td>\n      <td>2011-10-12 07:44:00</td>\n      <td>2011-10-12 10:54:00</td>\n      <td>189.516667</td>\n      <td>121.216667</td>\n      <td>7.312490</td>\n      <td>0.00</td>\n      <td>0</td>\n    </tr>\n    <tr>\n      <th>409</th>\n      <td>PALO ALTO CA / BRYANT #2</td>\n      <td>000D6F0000A2108E</td>\n      <td>2011-10-12 15:26:00</td>\n      <td>2011-10-12 17:49:00</td>\n      <td>143.866667</td>\n      <td>143.866667</td>\n      <td>8.703846</td>\n      <td>0.00</td>\n      <td>0</td>\n    </tr>\n    <tr>\n      <th>...</th>\n      <td>...</td>\n      <td>...</td>\n      <td>...</td>\n      <td>...</td>\n      <td>...</td>\n      <td>...</td>\n      <td>...</td>\n      <td>...</td>\n      <td>...</td>\n    </tr>\n    <tr>\n      <th>132777</th>\n      <td>PALO ALTO CA / WEBSTER #1</td>\n      <td>0024B10000021146</td>\n      <td>2017-08-03 17:40:00</td>\n      <td>2017-08-03 20:47:00</td>\n      <td>186.066667</td>\n      <td>149.266667</td>\n      <td>7.714000</td>\n      <td>1.80</td>\n      <td>7</td>\n    </tr>\n    <tr>\n      <th>132779</th>\n      <td>PALO ALTO CA / WEBSTER #3</td>\n      <td>0024B100000213D1</td>\n      <td>2017-08-03 17:44:00</td>\n      <td>2017-08-03 20:47:00</td>\n      <td>182.166667</td>\n      <td>128.533333</td>\n      <td>12.505000</td>\n      <td>3.43</td>\n      <td>7</td>\n    </tr>\n    <tr>\n      <th>132795</th>\n      <td>PALO ALTO CA / WEBSTER #3</td>\n      <td>0024B100000213D1</td>\n      <td>2017-08-03 19:04:00</td>\n      <td>2017-08-03 19:38:00</td>\n      <td>33.933333</td>\n      <td>33.750000</td>\n      <td>2.085000</td>\n      <td>0.48</td>\n      <td>7</td>\n    </tr>\n    <tr>\n      <th>132800</th>\n      <td>PALO ALTO CA / WEBSTER #3</td>\n      <td>0024B100000213D1</td>\n      <td>2017-08-03 19:46:00</td>\n      <td>2017-08-03 21:17:00</td>\n      <td>91.483333</td>\n      <td>80.583333</td>\n      <td>3.999000</td>\n      <td>0.92</td>\n      <td>7</td>\n    </tr>\n    <tr>\n      <th>132813</th>\n      <td>PALO ALTO CA / WEBSTER #3</td>\n      <td>0024B100000213D1</td>\n      <td>2017-08-03 21:47:00</td>\n      <td>2017-08-03 22:16:00</td>\n      <td>28.433333</td>\n      <td>28.233333</td>\n      <td>2.728000</td>\n      <td>0.63</td>\n      <td>7</td>\n    </tr>\n  </tbody>\n</table>\n<p>174137 rows × 9 columns</p>\n</div>"
     },
     "metadata": {},
     "execution_count": 59
    }
   ],
   "source": [
    "test"
   ]
  },
  {
   "cell_type": "code",
   "execution_count": 95,
   "metadata": {},
   "outputs": [],
   "source": [
    "def downsampling_to_days(df):\n",
    "    labels = df[\"Label\"].unique()\n",
    "    dfClean2 = pd.DataFrame(columns = df.columns[1:])\n",
    "    for label in labels:\n",
    "        d = df[df[\"Label\"] == label].resample(\"D\", on=\"Start Date\").agg({'Charging Time (mins)':'sum','Total Duration (mins)':'sum', 'Energy (kWh)':'sum', 'Fee (USD)':'sum', 'MAC Address':'min', 'Station Name':'min'}).fillna('')\n",
    "        d[\"Label\"] = label\n",
    "        \n",
    "        dfClean2 = dfClean2.append(d)\n",
    "    \n",
    "    dfClean2 = dfClean2.reset_index()\n",
    "    dfClean2 = dfClean2.rename(columns = {\"index\":\"Start Date\"})\n",
    "    \n",
    "    new_col_order = ['Start Date','Label','Charging Time (mins)','Total Duration (mins)', 'Energy (kWh)', 'Fee (USD)', 'MAC Address', 'Station Name']\n",
    "    dfClean3 = dfClean2[new_col_order]\n",
    "    return dfClean3"
   ]
  },
  {
   "cell_type": "code",
   "execution_count": 105,
   "metadata": {},
   "outputs": [
    {
     "output_type": "display_data",
     "data": {
      "text/plain": "<IPython.core.display.Javascript object>",
      "application/javascript": "\n        if (window._pyforest_update_imports_cell) { window._pyforest_update_imports_cell('import pandas as pd\\nimport numpy as np'); }\n    "
     },
     "metadata": {}
    }
   ],
   "source": [
    "df_down = downsampling_to_days(test)\n",
    "df_down = df_down.dropna(axis=1)\n",
    "df_down=df_down.set_index(\"Start Date\")"
   ]
  },
  {
   "cell_type": "code",
   "execution_count": 106,
   "metadata": {},
   "outputs": [
    {
     "output_type": "execute_result",
     "data": {
      "text/plain": [
       "           Label  Charging Time (mins)  Total Duration (mins)  Energy (kWh)  \\\n",
       "Start Date                                                                    \n",
       "2011-10-10     0            281.066667             398.850000     16.764479   \n",
       "2011-10-11     0            218.883333             224.383333     13.397377   \n",
       "2011-10-12     0            265.083333             333.383333     16.016336   \n",
       "2011-10-13     0            430.066667             552.133333     26.342279   \n",
       "2011-10-14     0            195.550000             195.716667     11.908109   \n",
       "...          ...                   ...                    ...           ...   \n",
       "2017-07-30     7           1710.466667            2075.066667    128.477000   \n",
       "2017-07-31     7           2708.300000            3707.433333    189.945000   \n",
       "2017-08-01     7           2318.816667            2385.400000    147.557000   \n",
       "2017-08-02     7           2162.083333            2359.400000    135.024000   \n",
       "2017-08-03     7           1774.366667            1986.950000    123.812000   \n",
       "\n",
       "            Fee (USD)       MAC Address               Station Name  \n",
       "Start Date                                                          \n",
       "2011-10-10       0.00  000D6F0000A2108E   PALO ALTO CA / BRYANT #2  \n",
       "2011-10-11       0.00  000D6F0000A2108E   PALO ALTO CA / BRYANT #2  \n",
       "2011-10-12       0.00  000D6F0000A2108E   PALO ALTO CA / BRYANT #2  \n",
       "2011-10-13       0.00  000D6F0000A20D9E   PALO ALTO CA / BRYANT #1  \n",
       "2011-10-14       0.00  000D6F0000A20D9E   PALO ALTO CA / BRYANT #1  \n",
       "...               ...               ...                        ...  \n",
       "2017-07-30       0.00  0024B10000021146  PALO ALTO CA / WEBSTER #1  \n",
       "2017-07-31       0.00  0024B10000021146  PALO ALTO CA / WEBSTER #1  \n",
       "2017-08-01      33.94  0024B10000021146  PALO ALTO CA / WEBSTER #1  \n",
       "2017-08-02      33.21  0024B10000021146  PALO ALTO CA / WEBSTER #1  \n",
       "2017-08-03      29.04  0024B10000021146  PALO ALTO CA / WEBSTER #1  \n",
       "\n",
       "[16509 rows x 7 columns]"
      ],
      "text/html": "<div>\n<style scoped>\n    .dataframe tbody tr th:only-of-type {\n        vertical-align: middle;\n    }\n\n    .dataframe tbody tr th {\n        vertical-align: top;\n    }\n\n    .dataframe thead th {\n        text-align: right;\n    }\n</style>\n<table border=\"1\" class=\"dataframe\">\n  <thead>\n    <tr style=\"text-align: right;\">\n      <th></th>\n      <th>Label</th>\n      <th>Charging Time (mins)</th>\n      <th>Total Duration (mins)</th>\n      <th>Energy (kWh)</th>\n      <th>Fee (USD)</th>\n      <th>MAC Address</th>\n      <th>Station Name</th>\n    </tr>\n    <tr>\n      <th>Start Date</th>\n      <th></th>\n      <th></th>\n      <th></th>\n      <th></th>\n      <th></th>\n      <th></th>\n      <th></th>\n    </tr>\n  </thead>\n  <tbody>\n    <tr>\n      <th>2011-10-10</th>\n      <td>0</td>\n      <td>281.066667</td>\n      <td>398.850000</td>\n      <td>16.764479</td>\n      <td>0.00</td>\n      <td>000D6F0000A2108E</td>\n      <td>PALO ALTO CA / BRYANT #2</td>\n    </tr>\n    <tr>\n      <th>2011-10-11</th>\n      <td>0</td>\n      <td>218.883333</td>\n      <td>224.383333</td>\n      <td>13.397377</td>\n      <td>0.00</td>\n      <td>000D6F0000A2108E</td>\n      <td>PALO ALTO CA / BRYANT #2</td>\n    </tr>\n    <tr>\n      <th>2011-10-12</th>\n      <td>0</td>\n      <td>265.083333</td>\n      <td>333.383333</td>\n      <td>16.016336</td>\n      <td>0.00</td>\n      <td>000D6F0000A2108E</td>\n      <td>PALO ALTO CA / BRYANT #2</td>\n    </tr>\n    <tr>\n      <th>2011-10-13</th>\n      <td>0</td>\n      <td>430.066667</td>\n      <td>552.133333</td>\n      <td>26.342279</td>\n      <td>0.00</td>\n      <td>000D6F0000A20D9E</td>\n      <td>PALO ALTO CA / BRYANT #1</td>\n    </tr>\n    <tr>\n      <th>2011-10-14</th>\n      <td>0</td>\n      <td>195.550000</td>\n      <td>195.716667</td>\n      <td>11.908109</td>\n      <td>0.00</td>\n      <td>000D6F0000A20D9E</td>\n      <td>PALO ALTO CA / BRYANT #1</td>\n    </tr>\n    <tr>\n      <th>...</th>\n      <td>...</td>\n      <td>...</td>\n      <td>...</td>\n      <td>...</td>\n      <td>...</td>\n      <td>...</td>\n      <td>...</td>\n    </tr>\n    <tr>\n      <th>2017-07-30</th>\n      <td>7</td>\n      <td>1710.466667</td>\n      <td>2075.066667</td>\n      <td>128.477000</td>\n      <td>0.00</td>\n      <td>0024B10000021146</td>\n      <td>PALO ALTO CA / WEBSTER #1</td>\n    </tr>\n    <tr>\n      <th>2017-07-31</th>\n      <td>7</td>\n      <td>2708.300000</td>\n      <td>3707.433333</td>\n      <td>189.945000</td>\n      <td>0.00</td>\n      <td>0024B10000021146</td>\n      <td>PALO ALTO CA / WEBSTER #1</td>\n    </tr>\n    <tr>\n      <th>2017-08-01</th>\n      <td>7</td>\n      <td>2318.816667</td>\n      <td>2385.400000</td>\n      <td>147.557000</td>\n      <td>33.94</td>\n      <td>0024B10000021146</td>\n      <td>PALO ALTO CA / WEBSTER #1</td>\n    </tr>\n    <tr>\n      <th>2017-08-02</th>\n      <td>7</td>\n      <td>2162.083333</td>\n      <td>2359.400000</td>\n      <td>135.024000</td>\n      <td>33.21</td>\n      <td>0024B10000021146</td>\n      <td>PALO ALTO CA / WEBSTER #1</td>\n    </tr>\n    <tr>\n      <th>2017-08-03</th>\n      <td>7</td>\n      <td>1774.366667</td>\n      <td>1986.950000</td>\n      <td>123.812000</td>\n      <td>29.04</td>\n      <td>0024B10000021146</td>\n      <td>PALO ALTO CA / WEBSTER #1</td>\n    </tr>\n  </tbody>\n</table>\n<p>16509 rows × 7 columns</p>\n</div>"
     },
     "metadata": {},
     "execution_count": 106
    }
   ],
   "source": [
    "df_down"
   ]
  },
  {
   "cell_type": "code",
   "execution_count": 116,
   "metadata": {},
   "outputs": [],
   "source": [
    "df_down.to_csv(\"data\\createdDat\\Censorship_scheem\\Plugs_censord.csv\")"
   ]
  }
 ]
}