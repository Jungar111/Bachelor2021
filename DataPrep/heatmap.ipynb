{
 "metadata": {
  "language_info": {
   "codemirror_mode": {
    "name": "ipython",
    "version": 3
   },
   "file_extension": ".py",
   "mimetype": "text/x-python",
   "name": "python",
   "nbconvert_exporter": "python",
   "pygments_lexer": "ipython3",
   "version": "3.7.1"
  },
  "orig_nbformat": 2,
  "kernelspec": {
   "name": "env",
   "display_name": "env",
   "language": "python"
  }
 },
 "nbformat": 4,
 "nbformat_minor": 2,
 "cells": [
  {
   "cell_type": "code",
   "execution_count": 1,
   "metadata": {},
   "outputs": [
    {
     "output_type": "stream",
     "name": "stdout",
     "text": [
      "/Users/AsgerSturisTang/OneDrive - Danmarks Tekniske Universitet/DTU/6. Semester/Bachelor2021\n"
     ]
    }
   ],
   "source": [
    "import sys\n",
    "sys.path.append(\"..\")\n",
    "%cd ..\n"
   ]
  },
  {
   "cell_type": "code",
   "execution_count": 4,
   "metadata": {},
   "outputs": [],
   "source": [
    "from DataPrep.ImportData import importer\n",
    "import keras\n",
    "from keras import Sequential, Model\n",
    "from keras.layers import Dense, LSTM, Dropout, Input, Reshape\n",
    "import pyforest\n",
    "import torch\n",
    "from tensorflow.keras import regularizers\n",
    "from sklearn.preprocessing import StandardScaler\n",
    "from sklearn.metrics import mean_squared_error, r2_score, mean_absolute_error, mean_absolute_percentage_error\n",
    "\n"
   ]
  },
  {
   "cell_type": "code",
   "execution_count": 8,
   "metadata": {},
   "outputs": [],
   "source": [
    "def toNormal(target, original, training = None):\n",
    "    if training != None:\n",
    "        target = pd.DataFrame(target, index = training.index)\n",
    "        training = training.sort_index()\n",
    "\n",
    "    target = target.sort_index()\n",
    "    min_index = target.index.min()\n",
    "    diff = original.iloc[min_index - 1]\n",
    "    first_org_value = original.iloc[min_index - 2]\n",
    "    diff = diff - first_org_value\n",
    "    target[1] = diff\n",
    "    target = target.sort_index()\n",
    "    target = target.cumsum()\n",
    "    target[0] = first_org_value\n",
    "    target = target.sort_index()\n",
    "\n",
    "    if training != None:\n",
    "        training[1] = diff\n",
    "        training = training.sort_index()\n",
    "        training = training.cumsum()\n",
    "        training[0] = first_org_value\n",
    "        training = training.sort_index()\n",
    "\n",
    "        return target.cumsum(), training.cumsum()\n",
    "\n",
    "\n",
    "    return target.cumsum()"
   ]
  },
  {
   "cell_type": "code",
   "execution_count": 27,
   "metadata": {},
   "outputs": [],
   "source": [
    "def get_pois(x,y):\n",
    "    distance = 0.005\n",
    "    return poi[((x-distance <= poi.Longitude) & (poi.Longitude <= x+distance)) & ((y-distance <= poi.Latitude) & (poi.Latitude <= y+distance))]"
   ]
  },
  {
   "cell_type": "code",
   "execution_count": 5,
   "metadata": {},
   "outputs": [],
   "source": [
    "model = keras.models.load_model('Modelling/Models/BayesOptimizedRNN.keras')\n"
   ]
  },
  {
   "cell_type": "code",
   "execution_count": 6,
   "metadata": {},
   "outputs": [
    {
     "output_type": "display_data",
     "data": {
      "text/plain": "<IPython.core.display.Javascript object>",
      "application/javascript": "\n        if (window._pyforest_update_imports_cell) { window._pyforest_update_imports_cell('import pandas as pd\\nimport keras'); }\n    "
     },
     "metadata": {}
    }
   ],
   "source": [
    "poi = pd.read_csv('data/createdDat/points_of_int.csv')"
   ]
  },
  {
   "cell_type": "code",
   "execution_count": 9,
   "metadata": {},
   "outputs": [],
   "source": [
    "df = importer().Import()"
   ]
  },
  {
   "cell_type": "code",
   "execution_count": 34,
   "metadata": {},
   "outputs": [
    {
     "output_type": "execute_result",
     "data": {
      "text/plain": [
       "Professional & Other Places    327\n",
       "Food                           282\n",
       "Shop & Service                 251\n",
       "Outdoors & Recreation          187\n",
       "Travel & Transport             180\n",
       "Arts & Entertainment           144\n",
       "Nightlife Spot                 140\n",
       "Residence                       78\n",
       "College & University            35\n",
       "Event                            3\n",
       "Name: Category, dtype: int64"
      ]
     },
     "metadata": {},
     "execution_count": 34
    }
   ],
   "source": [
    "get_pois(-122.16, 37.445)[\"Category\"].value_counts()"
   ]
  },
  {
   "cell_type": "code",
   "execution_count": 38,
   "metadata": {},
   "outputs": [
    {
     "output_type": "display_data",
     "data": {
      "text/plain": "<IPython.core.display.Javascript object>",
      "application/javascript": "\n        if (window._pyforest_update_imports_cell) { window._pyforest_update_imports_cell('import pandas as pd\\nimport keras'); }\n    "
     },
     "metadata": {}
    }
   ],
   "source": [
    "prediction_df = pd.DataFrame(columns=df.columns)"
   ]
  },
  {
   "cell_type": "code",
   "execution_count": 24,
   "metadata": {},
   "outputs": [
    {
     "output_type": "execute_result",
     "data": {
      "text/plain": [
       "(8676, 6)"
      ]
     },
     "metadata": {},
     "execution_count": 24
    }
   ],
   "source": [
    "poi.shape"
   ]
  }
 ]
}