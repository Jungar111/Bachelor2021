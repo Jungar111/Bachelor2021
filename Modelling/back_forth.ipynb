{
 "metadata": {
  "language_info": {
   "codemirror_mode": {
    "name": "ipython",
    "version": 3
   },
   "file_extension": ".py",
   "mimetype": "text/x-python",
   "name": "python",
   "nbconvert_exporter": "python",
   "pygments_lexer": "ipython3",
   "version": "3.7.1"
  },
  "orig_nbformat": 2,
  "kernelspec": {
   "name": "python371jvsc74a57bd06df705a1df32f4a92ae938805853bbc6abb67c9c9a0feafcb35a93f4480b8013",
   "display_name": "Python 3.7.1 64-bit",
   "language": "python"
  }
 },
 "nbformat": 4,
 "nbformat_minor": 2,
 "cells": [
  {
   "cell_type": "code",
   "execution_count": 1,
   "metadata": {},
   "outputs": [
    {
     "output_type": "stream",
     "name": "stdout",
     "text": [
      "/Users/AsgerSturisTang/OneDrive - Danmarks Tekniske Universitet/DTU/6. Semester/Bachelor2021\n"
     ]
    }
   ],
   "source": [
    "import pandas as pd\n",
    "# ^^^ pyforest auto-imports - don't write above this line\n",
    "import sys\n",
    "sys.path.append(\"..\")\n",
    "%cd ..\n"
   ]
  },
  {
   "cell_type": "code",
   "execution_count": 2,
   "metadata": {},
   "outputs": [],
   "source": [
    "from DataPrep.ImportData import importer\n",
    "from Modelling import modelling\n",
    "import keras\n",
    "from keras import Sequential, Model\n",
    "from keras.layers import Dense, LSTM, Dropout, Input, Reshape\n",
    "import pyforest\n",
    "import torch\n",
    "from tensorflow.keras import regularizers\n",
    "from sklearn.preprocessing import StandardScaler\n",
    "from sklearn.metrics import mean_squared_error, r2_score, mean_absolute_error, mean_absolute_percentage_error\n",
    "\n"
   ]
  },
  {
   "cell_type": "code",
   "execution_count": 3,
   "metadata": {},
   "outputs": [],
   "source": [
    "m = modelling()\n",
    "df = m.df.drop(columns=[\"Start Date\",\"Charging Time (mins)\", \"Total Duration (mins)\", \"Port Number\"])"
   ]
  },
  {
   "cell_type": "code",
   "execution_count": 4,
   "metadata": {},
   "outputs": [],
   "source": [
    "cols_to_standardize = ['# Professional & Other Places', '# Food', '# Shop & Service',\n",
    "       '# Travel & Transport', '# Outdoors & Recreation',\n",
    "       '# Arts & Entertainment', '# Nightlife Spot', '# Residence',\n",
    "       '# College & University', '# Event']"
   ]
  },
  {
   "cell_type": "code",
   "execution_count": 5,
   "metadata": {},
   "outputs": [
    {
     "output_type": "execute_result",
     "data": {
      "text/plain": [
       "   Label  Energy (kWh)  CenterLon  CenterLat  Level 1  Level 2  \\\n",
       "0    0.0      1.679882    -122.16     37.445        0        8   \n",
       "1    0.0      1.899242    -122.16     37.445        0        5   \n",
       "2    0.0      1.574471    -122.16     37.445        0       10   \n",
       "3    0.0      1.982032    -122.16     37.445        0       14   \n",
       "4    0.0      2.232860    -122.16     37.445        0        3   \n",
       "\n",
       "   Energy (kWh)_lag1  Energy (kWh)_lag2  Energy (kWh)_lag3  Energy (kWh)_lag4  \\\n",
       "0           2.098609           1.260311           2.325573           1.726841   \n",
       "1           1.679882           2.098609           1.260311           2.325573   \n",
       "2           1.899242           1.679882           2.098609           1.260311   \n",
       "3           1.574471           1.899242           1.679882           2.098609   \n",
       "4           1.982032           1.574471           1.899242           1.679882   \n",
       "\n",
       "   ...  Year_Month_5  Year_Month_6  Year_Month_7  Year_Month_8  Year_Month_9  \\\n",
       "0  ...             0             0             0             1             0   \n",
       "1  ...             0             0             0             1             0   \n",
       "2  ...             0             0             0             1             0   \n",
       "3  ...             0             0             0             1             0   \n",
       "4  ...             0             0             0             1             0   \n",
       "\n",
       "   Year_Month_10  Year_Month_11  Year_Month_12  is_holiday  is_weekend  \n",
       "0              0              0              0           0           0  \n",
       "1              0              0              0           0           0  \n",
       "2              0              0              0           0           0  \n",
       "3              0              0              0           0           1  \n",
       "4              0              0              0           0           1  \n",
       "\n",
       "[5 rows x 81 columns]"
      ],
      "text/html": "<div>\n<style scoped>\n    .dataframe tbody tr th:only-of-type {\n        vertical-align: middle;\n    }\n\n    .dataframe tbody tr th {\n        vertical-align: top;\n    }\n\n    .dataframe thead th {\n        text-align: right;\n    }\n</style>\n<table border=\"1\" class=\"dataframe\">\n  <thead>\n    <tr style=\"text-align: right;\">\n      <th></th>\n      <th>Label</th>\n      <th>Energy (kWh)</th>\n      <th>CenterLon</th>\n      <th>CenterLat</th>\n      <th>Level 1</th>\n      <th>Level 2</th>\n      <th>Energy (kWh)_lag1</th>\n      <th>Energy (kWh)_lag2</th>\n      <th>Energy (kWh)_lag3</th>\n      <th>Energy (kWh)_lag4</th>\n      <th>...</th>\n      <th>Year_Month_5</th>\n      <th>Year_Month_6</th>\n      <th>Year_Month_7</th>\n      <th>Year_Month_8</th>\n      <th>Year_Month_9</th>\n      <th>Year_Month_10</th>\n      <th>Year_Month_11</th>\n      <th>Year_Month_12</th>\n      <th>is_holiday</th>\n      <th>is_weekend</th>\n    </tr>\n  </thead>\n  <tbody>\n    <tr>\n      <th>0</th>\n      <td>0.0</td>\n      <td>1.679882</td>\n      <td>-122.16</td>\n      <td>37.445</td>\n      <td>0</td>\n      <td>8</td>\n      <td>2.098609</td>\n      <td>1.260311</td>\n      <td>2.325573</td>\n      <td>1.726841</td>\n      <td>...</td>\n      <td>0</td>\n      <td>0</td>\n      <td>0</td>\n      <td>1</td>\n      <td>0</td>\n      <td>0</td>\n      <td>0</td>\n      <td>0</td>\n      <td>0</td>\n      <td>0</td>\n    </tr>\n    <tr>\n      <th>1</th>\n      <td>0.0</td>\n      <td>1.899242</td>\n      <td>-122.16</td>\n      <td>37.445</td>\n      <td>0</td>\n      <td>5</td>\n      <td>1.679882</td>\n      <td>2.098609</td>\n      <td>1.260311</td>\n      <td>2.325573</td>\n      <td>...</td>\n      <td>0</td>\n      <td>0</td>\n      <td>0</td>\n      <td>1</td>\n      <td>0</td>\n      <td>0</td>\n      <td>0</td>\n      <td>0</td>\n      <td>0</td>\n      <td>0</td>\n    </tr>\n    <tr>\n      <th>2</th>\n      <td>0.0</td>\n      <td>1.574471</td>\n      <td>-122.16</td>\n      <td>37.445</td>\n      <td>0</td>\n      <td>10</td>\n      <td>1.899242</td>\n      <td>1.679882</td>\n      <td>2.098609</td>\n      <td>1.260311</td>\n      <td>...</td>\n      <td>0</td>\n      <td>0</td>\n      <td>0</td>\n      <td>1</td>\n      <td>0</td>\n      <td>0</td>\n      <td>0</td>\n      <td>0</td>\n      <td>0</td>\n      <td>0</td>\n    </tr>\n    <tr>\n      <th>3</th>\n      <td>0.0</td>\n      <td>1.982032</td>\n      <td>-122.16</td>\n      <td>37.445</td>\n      <td>0</td>\n      <td>14</td>\n      <td>1.574471</td>\n      <td>1.899242</td>\n      <td>1.679882</td>\n      <td>2.098609</td>\n      <td>...</td>\n      <td>0</td>\n      <td>0</td>\n      <td>0</td>\n      <td>1</td>\n      <td>0</td>\n      <td>0</td>\n      <td>0</td>\n      <td>0</td>\n      <td>0</td>\n      <td>1</td>\n    </tr>\n    <tr>\n      <th>4</th>\n      <td>0.0</td>\n      <td>2.232860</td>\n      <td>-122.16</td>\n      <td>37.445</td>\n      <td>0</td>\n      <td>3</td>\n      <td>1.982032</td>\n      <td>1.574471</td>\n      <td>1.899242</td>\n      <td>1.679882</td>\n      <td>...</td>\n      <td>0</td>\n      <td>0</td>\n      <td>0</td>\n      <td>1</td>\n      <td>0</td>\n      <td>0</td>\n      <td>0</td>\n      <td>0</td>\n      <td>0</td>\n      <td>1</td>\n    </tr>\n  </tbody>\n</table>\n<p>5 rows × 81 columns</p>\n</div>"
     },
     "metadata": {},
     "execution_count": 5
    }
   ],
   "source": [
    "df.head()"
   ]
  },
  {
   "cell_type": "code",
   "execution_count": 6,
   "metadata": {},
   "outputs": [],
   "source": [
    "sc = StandardScaler()\n",
    "stand_poi = sc.fit_transform(df[cols_to_standardize])"
   ]
  },
  {
   "cell_type": "code",
   "execution_count": 7,
   "metadata": {},
   "outputs": [],
   "source": [
    "stand_poi = pd.DataFrame(stand_poi, index=df.index, columns=cols_to_standardize)"
   ]
  },
  {
   "cell_type": "code",
   "execution_count": 8,
   "metadata": {},
   "outputs": [],
   "source": [
    "for i in cols_to_standardize:\n",
    "    df[i] = stand_poi[i]"
   ]
  },
  {
   "cell_type": "code",
   "execution_count": 9,
   "metadata": {},
   "outputs": [],
   "source": [
    "df[\"Label\"] = df[\"Label\"] + 1"
   ]
  },
  {
   "cell_type": "code",
   "execution_count": 10,
   "metadata": {},
   "outputs": [],
   "source": [
    "df = df.fillna(0)"
   ]
  },
  {
   "cell_type": "code",
   "execution_count": 11,
   "metadata": {},
   "outputs": [],
   "source": [
    "org = df[\"Energy (kWh)\"].copy()\n"
   ]
  },
  {
   "cell_type": "code",
   "execution_count": 12,
   "metadata": {},
   "outputs": [],
   "source": [
    "df_org = df.copy()"
   ]
  },
  {
   "cell_type": "code",
   "execution_count": 13,
   "metadata": {},
   "outputs": [],
   "source": [
    "\n",
    "df[\"Energy (kWh)\"] = df[\"Energy (kWh)\"].diff().diff()\n",
    "df = df.dropna()\n"
   ]
  },
  {
   "cell_type": "code",
   "execution_count": 63,
   "metadata": {},
   "outputs": [],
   "source": [
    "def toNormal(target, original, training = None):\n",
    "    if training != None:\n",
    "        target = pd.DataFrame(target, index = training.index)\n",
    "        training = training.sort_index()\n",
    "\n",
    "    target = target.sort_index()\n",
    "    min_index = target.index.min()\n",
    "    diff = original.iloc[min_index - 1]\n",
    "    first_org_value = original.iloc[min_index - 2]\n",
    "    diff = diff - first_org_value\n",
    "    target[1] = diff\n",
    "    target = target.sort_index()\n",
    "    target = target.cumsum()\n",
    "    target[0] = first_org_value\n",
    "    target = target.sort_index()\n",
    "\n",
    "    if training != None:\n",
    "        training[1] = diff\n",
    "        training = training.sort_index()\n",
    "        training = training.cumsum()\n",
    "        training[0] = first_org_value\n",
    "        training = training.sort_index()\n",
    "\n",
    "        return target.cumsum(), training.cumsum()\n",
    "\n",
    "\n",
    "    return target.cumsum()\n",
    "        \n"
   ]
  },
  {
   "cell_type": "code",
   "execution_count": 62,
   "metadata": {},
   "outputs": [
    {
     "output_type": "execute_result",
     "data": {
      "text/plain": [
       "0        1.679882\n",
       "1        1.899242\n",
       "2        1.574471\n",
       "3        1.982032\n",
       "4        2.232860\n",
       "           ...   \n",
       "17276    4.018583\n",
       "17277    4.247111\n",
       "17278    2.646125\n",
       "17279    4.348600\n",
       "17280    3.383808\n",
       "Name: Energy (kWh), Length: 17281, dtype: float64"
      ]
     },
     "metadata": {},
     "execution_count": 62
    }
   ],
   "source": [
    "toNormal(df[\"Energy (kWh)\"], org)"
   ]
  }
 ]
}