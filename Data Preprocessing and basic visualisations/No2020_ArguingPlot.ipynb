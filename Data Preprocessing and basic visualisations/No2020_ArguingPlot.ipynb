{
 "cells": [
  {
   "cell_type": "code",
   "execution_count": 1,
   "metadata": {},
   "outputs": [
    {
     "data": {
      "text/plain": [
       "<Figure size 432x288 with 0 Axes>"
      ]
     },
     "metadata": {},
     "output_type": "display_data"
    }
   ],
   "source": [
    "import numpy as np\n",
    "import pandas as pd\n",
    "import datetime as dt\n",
    "import time\n",
    "import matplotlib.pyplot as plt\n",
    "plt.set_cmap('bone')\n",
    "from geopy import distance\n",
    "from sklearn.cluster import DBSCAN\n",
    "import time\n",
    "import re\n",
    "import folium\n",
    "from matplotlib.ticker import MaxNLocator\n",
    "from tqdm.notebook import tqdm\n",
    "from IPython.display import display\n",
    "cmap = plt.cm.bone\n",
    "\n",
    "import pandas as pd\n",
    "pd.options.mode.chained_assignment = None  # default='warn'\n"
   ]
  },
  {
   "cell_type": "code",
   "execution_count": 2,
   "metadata": {},
   "outputs": [],
   "source": [
    "from ipynb.fs.defs.ALL_data_preprocessing_FINAL_VERSION import time_converter, fix_UTC, duration_times_to_float, currency_converter, correcting_MAC, data_drop, label_generator, proportionalsplit, downsampling_to_days\n"
   ]
  },
  {
   "cell_type": "code",
   "execution_count": 3,
   "metadata": {},
   "outputs": [],
   "source": [
    "df = pd.read_csv('C:\\\\Users\\\\User\\\\OneDrive - Danmarks Tekniske Universitet\\\\SAS_030919\\\\6. Semester\\\\BSc\\\\Bachelor2021\\\\data\\\\ChargePoint Data CY20Q4.csv', low_memory = False)"
   ]
  },
  {
   "cell_type": "code",
   "execution_count": 4,
   "metadata": {},
   "outputs": [],
   "source": [
    "df = time_converter(df)\n",
    "df = fix_UTC(df)\n",
    "df = duration_times_to_float(df)\n",
    "df = currency_converter(df)\n",
    "df = correcting_MAC(df)\n",
    "df = data_drop(df)\n"
   ]
  },
  {
   "cell_type": "code",
   "execution_count": 5,
   "metadata": {},
   "outputs": [
    {
     "name": "stdout",
     "output_type": "stream",
     "text": [
      "['BRYANT ' 'CAMBRIDGE ' 'HAMILTON ' 'HIGH ' 'MPL ' 'RINCONADA LIB '\n",
      " 'SHERMAN ' 'TED THOMPSON ' 'WEBSTER ']\n"
     ]
    }
   ],
   "source": [
    "df = label_generator(df)\n",
    "df['Label'] = 100"
   ]
  },
  {
   "cell_type": "code",
   "execution_count": 6,
   "metadata": {},
   "outputs": [],
   "source": [
    "#df = df.head(20000)"
   ]
  },
  {
   "cell_type": "code",
   "execution_count": 7,
   "metadata": {},
   "outputs": [
    {
     "name": "stderr",
     "output_type": "stream",
     "text": [
      "C:\\Users\\User\\OneDrive - Danmarks Tekniske Universitet\\SAS_030919\\6. Semester\\BSc\\Bachelor2021\\Notebooks\\Final Notebooks\\ALL_data_preprocessing_FINAL_VERSION.ipynb:399: RuntimeWarning: invalid value encountered in true_divide\n",
      "  \"      <td>PST</td>\\n\",\n"
     ]
    },
    {
     "name": "stdout",
     "output_type": "stream",
     "text": [
      "This bastard took 11.123806341489155 minutes to run...\n"
     ]
    }
   ],
   "source": [
    "start_time = time.time()\n",
    "df_days = pd.concat([pd.DataFrame(v) for v in df.apply(proportionalsplit, axis=1).values]).reset_index(drop=True)\n",
    "print(\"This bastard took\", (time.time() - start_time)/60, \"minutes to run...\")"
   ]
  },
  {
   "cell_type": "code",
   "execution_count": 8,
   "metadata": {},
   "outputs": [],
   "source": [
    "df_days = downsampling_to_days(df_days)"
   ]
  },
  {
   "cell_type": "code",
   "execution_count": 9,
   "metadata": {},
   "outputs": [
    {
     "data": {
      "text/html": [
       "<div>\n",
       "<style scoped>\n",
       "    .dataframe tbody tr th:only-of-type {\n",
       "        vertical-align: middle;\n",
       "    }\n",
       "\n",
       "    .dataframe tbody tr th {\n",
       "        vertical-align: top;\n",
       "    }\n",
       "\n",
       "    .dataframe thead th {\n",
       "        text-align: right;\n",
       "    }\n",
       "</style>\n",
       "<table border=\"1\" class=\"dataframe\">\n",
       "  <thead>\n",
       "    <tr style=\"text-align: right;\">\n",
       "      <th></th>\n",
       "      <th>Start Date</th>\n",
       "      <th>Label</th>\n",
       "      <th>Charging Time (mins)</th>\n",
       "      <th>Parking Time (mins)</th>\n",
       "      <th>Energy (kWh)</th>\n",
       "      <th>Fee (USD)</th>\n",
       "      <th>CenterLon</th>\n",
       "      <th>CenterLat</th>\n",
       "    </tr>\n",
       "  </thead>\n",
       "  <tbody>\n",
       "    <tr>\n",
       "      <th>0</th>\n",
       "      <td>2011-07-29</td>\n",
       "      <td>100</td>\n",
       "      <td>114.050000</td>\n",
       "      <td>183.533333</td>\n",
       "      <td>6.249457</td>\n",
       "      <td>0.000000</td>\n",
       "      <td>-122.160262</td>\n",
       "      <td>37.444549</td>\n",
       "    </tr>\n",
       "    <tr>\n",
       "      <th>1</th>\n",
       "      <td>2011-07-30</td>\n",
       "      <td>100</td>\n",
       "      <td>517.200000</td>\n",
       "      <td>686.650000</td>\n",
       "      <td>28.978653</td>\n",
       "      <td>0.000000</td>\n",
       "      <td>-122.160262</td>\n",
       "      <td>37.444549</td>\n",
       "    </tr>\n",
       "    <tr>\n",
       "      <th>2</th>\n",
       "      <td>2011-07-31</td>\n",
       "      <td>100</td>\n",
       "      <td>647.866667</td>\n",
       "      <td>725.983333</td>\n",
       "      <td>37.209163</td>\n",
       "      <td>0.000000</td>\n",
       "      <td>-122.160262</td>\n",
       "      <td>37.444549</td>\n",
       "    </tr>\n",
       "    <tr>\n",
       "      <th>3</th>\n",
       "      <td>2011-08-01</td>\n",
       "      <td>100</td>\n",
       "      <td>95.133333</td>\n",
       "      <td>203.566667</td>\n",
       "      <td>5.041244</td>\n",
       "      <td>0.000000</td>\n",
       "      <td>-122.160262</td>\n",
       "      <td>37.444549</td>\n",
       "    </tr>\n",
       "    <tr>\n",
       "      <th>4</th>\n",
       "      <td>2011-08-02</td>\n",
       "      <td>100</td>\n",
       "      <td>279.983333</td>\n",
       "      <td>280.316667</td>\n",
       "      <td>16.210423</td>\n",
       "      <td>0.000000</td>\n",
       "      <td>-122.160262</td>\n",
       "      <td>37.444549</td>\n",
       "    </tr>\n",
       "    <tr>\n",
       "      <th>...</th>\n",
       "      <td>...</td>\n",
       "      <td>...</td>\n",
       "      <td>...</td>\n",
       "      <td>...</td>\n",
       "      <td>...</td>\n",
       "      <td>...</td>\n",
       "      <td>...</td>\n",
       "      <td>...</td>\n",
       "    </tr>\n",
       "    <tr>\n",
       "      <th>3439</th>\n",
       "      <td>2020-12-27</td>\n",
       "      <td>100</td>\n",
       "      <td>2400.761389</td>\n",
       "      <td>2699.988253</td>\n",
       "      <td>210.606068</td>\n",
       "      <td>52.817263</td>\n",
       "      <td>-122.163024</td>\n",
       "      <td>37.422125</td>\n",
       "    </tr>\n",
       "    <tr>\n",
       "      <th>3440</th>\n",
       "      <td>2020-12-28</td>\n",
       "      <td>100</td>\n",
       "      <td>3398.338611</td>\n",
       "      <td>3641.428414</td>\n",
       "      <td>295.494932</td>\n",
       "      <td>71.662737</td>\n",
       "      <td>-122.163024</td>\n",
       "      <td>37.422125</td>\n",
       "    </tr>\n",
       "    <tr>\n",
       "      <th>3441</th>\n",
       "      <td>2020-12-29</td>\n",
       "      <td>100</td>\n",
       "      <td>4662.633333</td>\n",
       "      <td>5475.500000</td>\n",
       "      <td>371.171000</td>\n",
       "      <td>103.630000</td>\n",
       "      <td>-122.163024</td>\n",
       "      <td>37.422125</td>\n",
       "    </tr>\n",
       "    <tr>\n",
       "      <th>3442</th>\n",
       "      <td>2020-12-30</td>\n",
       "      <td>100</td>\n",
       "      <td>3564.200000</td>\n",
       "      <td>3809.650000</td>\n",
       "      <td>290.318000</td>\n",
       "      <td>68.980000</td>\n",
       "      <td>-122.163024</td>\n",
       "      <td>37.422125</td>\n",
       "    </tr>\n",
       "    <tr>\n",
       "      <th>3443</th>\n",
       "      <td>2020-12-31</td>\n",
       "      <td>100</td>\n",
       "      <td>3727.383333</td>\n",
       "      <td>4668.133333</td>\n",
       "      <td>315.425000</td>\n",
       "      <td>112.600000</td>\n",
       "      <td>-122.163024</td>\n",
       "      <td>37.422125</td>\n",
       "    </tr>\n",
       "  </tbody>\n",
       "</table>\n",
       "<p>3444 rows × 8 columns</p>\n",
       "</div>"
      ],
      "text/plain": [
       "     Start Date Label  Charging Time (mins)  Parking Time (mins)  \\\n",
       "0    2011-07-29   100            114.050000           183.533333   \n",
       "1    2011-07-30   100            517.200000           686.650000   \n",
       "2    2011-07-31   100            647.866667           725.983333   \n",
       "3    2011-08-01   100             95.133333           203.566667   \n",
       "4    2011-08-02   100            279.983333           280.316667   \n",
       "...         ...   ...                   ...                  ...   \n",
       "3439 2020-12-27   100           2400.761389          2699.988253   \n",
       "3440 2020-12-28   100           3398.338611          3641.428414   \n",
       "3441 2020-12-29   100           4662.633333          5475.500000   \n",
       "3442 2020-12-30   100           3564.200000          3809.650000   \n",
       "3443 2020-12-31   100           3727.383333          4668.133333   \n",
       "\n",
       "      Energy (kWh)   Fee (USD)   CenterLon  CenterLat  \n",
       "0         6.249457    0.000000 -122.160262  37.444549  \n",
       "1        28.978653    0.000000 -122.160262  37.444549  \n",
       "2        37.209163    0.000000 -122.160262  37.444549  \n",
       "3         5.041244    0.000000 -122.160262  37.444549  \n",
       "4        16.210423    0.000000 -122.160262  37.444549  \n",
       "...            ...         ...         ...        ...  \n",
       "3439    210.606068   52.817263 -122.163024  37.422125  \n",
       "3440    295.494932   71.662737 -122.163024  37.422125  \n",
       "3441    371.171000  103.630000 -122.163024  37.422125  \n",
       "3442    290.318000   68.980000 -122.163024  37.422125  \n",
       "3443    315.425000  112.600000 -122.163024  37.422125  \n",
       "\n",
       "[3444 rows x 8 columns]"
      ]
     },
     "execution_count": 9,
     "metadata": {},
     "output_type": "execute_result"
    }
   ],
   "source": [
    "df_days"
   ]
  },
  {
   "cell_type": "code",
   "execution_count": null,
   "metadata": {},
   "outputs": [],
   "source": []
  },
  {
   "cell_type": "code",
   "execution_count": 10,
   "metadata": {},
   "outputs": [
    {
     "data": {
      "image/png": "[encoded data removed]",
      "text/plain": [
       "<Figure size 864x576 with 1 Axes>"
      ]
     },
     "metadata": {
      "needs_background": "light"
     },
     "output_type": "display_data"
    }
   ],
   "source": [
    "plt.rcParams['figure.figsize'] = [12, 8]\n",
    "plt.plot(df_days['Start Date'], df_days['Energy (kWh)'], color = cmap(0.4))\n",
    "plt.ylabel('Energy (kWh)')\n",
    "plt.title('Daily demand across Palo Alto mid 2011 - 2021')\n",
    "plt.show()"
   ]
  }
 ],
 "metadata": {
  "kernelspec": {
   "display_name": "Python 3",
   "language": "python",
   "name": "python3"
  },
  "language_info": {
   "codemirror_mode": {
    "name": "ipython",
    "version": 3
   },
   "file_extension": ".py",
   "mimetype": "text/x-python",
   "name": "python",
   "nbconvert_exporter": "python",
   "pygments_lexer": "ipython3",
   "version": "3.8.3"
  }
 },
 "nbformat": 4,
 "nbformat_minor": 4
}
