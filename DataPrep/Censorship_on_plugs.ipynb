{
 "metadata": {
  "orig_nbformat": 2,
  "kernelspec": {
   "name": "pythonjvsc74a57bd059fd5f8a430795c13ac3d8bfcb709109ed9a027f57069bd26c0faa31c7520fc1",
   "display_name": "Python 3.7.4  ('env': venv)"
  },
  "metadata": {
   "interpreter": {
    "hash": "59fd5f8a430795c13ac3d8bfcb709109ed9a027f57069bd26c0faa31c7520fc1"
   }
  }
 },
 "nbformat": 4,
 "nbformat_minor": 2,
 "cells": [
  {
   "cell_type": "code",
   "execution_count": 1,
   "metadata": {},
   "outputs": [
    {
     "output_type": "stream",
     "name": "stdout",
     "text": [
      "c:\\Users\\frede\\OneDrive - Danmarks Tekniske Universitet\\DTU\\6. Semester\\Bachelor2021-1\n"
     ]
    }
   ],
   "source": [
    "import sys\n",
    "sys.path.append(\"..\")\n",
    "%cd .."
   ]
  },
  {
   "cell_type": "code",
   "execution_count": 2,
   "metadata": {},
   "outputs": [],
   "source": [
    "from DataPrep.load_data import load_data\n",
    "import pyforest"
   ]
  },
  {
   "cell_type": "code",
   "execution_count": 3,
   "metadata": {},
   "outputs": [
    {
     "output_type": "display_data",
     "data": {
      "text/plain": "<IPython.core.display.Javascript object>",
      "application/javascript": "\n        if (window._pyforest_update_imports_cell) { window._pyforest_update_imports_cell('import pandas as pd'); }\n    "
     },
     "metadata": {}
    },
    {
     "output_type": "display_data",
     "data": {
      "text/plain": "<IPython.core.display.Javascript object>",
      "application/javascript": "\n        if (window._pyforest_update_imports_cell) { window._pyforest_update_imports_cell('import pandas as pd'); }\n    "
     },
     "metadata": {}
    }
   ],
   "source": [
    "df = pd.read_csv(\"data\\createdDat\\Data_Oskar\\df_11052021.csv\")\n",
    "plug = pd.read_csv(\"data\\createdDat\\Data_Oskar\\plugdf_11052021.csv\")"
   ]
  },
  {
   "cell_type": "code",
   "execution_count": 4,
   "metadata": {},
   "outputs": [
    {
     "output_type": "execute_result",
     "data": {
      "text/plain": [
       "        Label  Plugs_raw  Number of NEMA 5-20R_raw   Plugs  \\\n",
       "count  1825.0     1825.0                    1825.0  1825.0   \n",
       "mean      5.0        6.0                       3.0     6.0   \n",
       "std       0.0        0.0                       0.0     0.0   \n",
       "min       5.0        6.0                       3.0     6.0   \n",
       "25%       5.0        6.0                       3.0     6.0   \n",
       "50%       5.0        6.0                       3.0     6.0   \n",
       "75%       5.0        6.0                       3.0     6.0   \n",
       "max       5.0        6.0                       3.0     6.0   \n",
       "\n",
       "       Number of NEMA 5-20R  \n",
       "count                1825.0  \n",
       "mean                    3.0  \n",
       "std                     0.0  \n",
       "min                     3.0  \n",
       "25%                     3.0  \n",
       "50%                     3.0  \n",
       "75%                     3.0  \n",
       "max                     3.0  "
      ],
      "text/html": "<div>\n<style scoped>\n    .dataframe tbody tr th:only-of-type {\n        vertical-align: middle;\n    }\n\n    .dataframe tbody tr th {\n        vertical-align: top;\n    }\n\n    .dataframe thead th {\n        text-align: right;\n    }\n</style>\n<table border=\"1\" class=\"dataframe\">\n  <thead>\n    <tr style=\"text-align: right;\">\n      <th></th>\n      <th>Label</th>\n      <th>Plugs_raw</th>\n      <th>Number of NEMA 5-20R_raw</th>\n      <th>Plugs</th>\n      <th>Number of NEMA 5-20R</th>\n    </tr>\n  </thead>\n  <tbody>\n    <tr>\n      <th>count</th>\n      <td>1825.0</td>\n      <td>1825.0</td>\n      <td>1825.0</td>\n      <td>1825.0</td>\n      <td>1825.0</td>\n    </tr>\n    <tr>\n      <th>mean</th>\n      <td>5.0</td>\n      <td>6.0</td>\n      <td>3.0</td>\n      <td>6.0</td>\n      <td>3.0</td>\n    </tr>\n    <tr>\n      <th>std</th>\n      <td>0.0</td>\n      <td>0.0</td>\n      <td>0.0</td>\n      <td>0.0</td>\n      <td>0.0</td>\n    </tr>\n    <tr>\n      <th>min</th>\n      <td>5.0</td>\n      <td>6.0</td>\n      <td>3.0</td>\n      <td>6.0</td>\n      <td>3.0</td>\n    </tr>\n    <tr>\n      <th>25%</th>\n      <td>5.0</td>\n      <td>6.0</td>\n      <td>3.0</td>\n      <td>6.0</td>\n      <td>3.0</td>\n    </tr>\n    <tr>\n      <th>50%</th>\n      <td>5.0</td>\n      <td>6.0</td>\n      <td>3.0</td>\n      <td>6.0</td>\n      <td>3.0</td>\n    </tr>\n    <tr>\n      <th>75%</th>\n      <td>5.0</td>\n      <td>6.0</td>\n      <td>3.0</td>\n      <td>6.0</td>\n      <td>3.0</td>\n    </tr>\n    <tr>\n      <th>max</th>\n      <td>5.0</td>\n      <td>6.0</td>\n      <td>3.0</td>\n      <td>6.0</td>\n      <td>3.0</td>\n    </tr>\n  </tbody>\n</table>\n</div>"
     },
     "metadata": {},
     "execution_count": 4
    }
   ],
   "source": [
    "plug[plug[\"Label\"]==5].describe()"
   ]
  },
  {
   "cell_type": "code",
   "execution_count": 5,
   "metadata": {},
   "outputs": [],
   "source": [
    "def get_censored(df):\n",
    "    plug = pd.read_csv(\"data\\createdDat\\Data_Oskar\\plugdf_11052021.csv\")\n",
    "\n",
    "    df = df.drop(columns=[\"Unnamed: 0\",\"Latitude\",\"Longitude\",\"CenterLat\",\"CenterLon\", \"Plug Type\"])\n",
    "    df[\"Start Date\"] = pd.to_datetime(df[\"Start Date\"]) \n",
    "    test = pd.DataFrame(columns=list(df.columns))\n",
    "    censors = []\n",
    "    for label in range(8):\n",
    "        maks = plug[\"Date\"][plug[\"Label\"]==label][plug[plug[\"Label\"]==label][\"Plugs\"]==plug[plug[\"Label\"]==label][\"Plugs\"].max()]\n",
    "        intercept = maks[maks.index[0]]\n",
    "        macs_until_intercept = df[(df[\"Label\"]==label) & (df[\"Start Date\"].dt.date<pd.to_datetime(intercept))][\"Station Name\"].unique()\n",
    "\n",
    "        if label==5:\n",
    "            macs_until_intercept = df[\"Station Name\"][df[\"Label\"]==label].unique()\n",
    "\n",
    "        #Label 2 skal ikke censores kun 4 dage uden fuld kraft\n",
    "        liste = df[df[\"Label\"]==label][\"Station Name\"].isin(macs_until_intercept)\n",
    "\n",
    "        censors.append(intercept)\n",
    "\n",
    "        test = test.append(df[(df[\"Label\"]==label) & (liste)]) \n",
    "    \n",
    "    return test, censors\n",
    "    \n",
    "\n"
   ]
  },
  {
   "cell_type": "code",
   "execution_count": 6,
   "metadata": {},
   "outputs": [
    {
     "output_type": "display_data",
     "data": {
      "text/plain": "<IPython.core.display.Javascript object>",
      "application/javascript": "\n        if (window._pyforest_update_imports_cell) { window._pyforest_update_imports_cell('import pandas as pd'); }\n    "
     },
     "metadata": {}
    },
    {
     "output_type": "display_data",
     "data": {
      "text/plain": "<IPython.core.display.Javascript object>",
      "application/javascript": "\n        if (window._pyforest_update_imports_cell) { window._pyforest_update_imports_cell('import pandas as pd'); }\n    "
     },
     "metadata": {}
    },
    {
     "output_type": "display_data",
     "data": {
      "text/plain": "<IPython.core.display.Javascript object>",
      "application/javascript": "\n        if (window._pyforest_update_imports_cell) { window._pyforest_update_imports_cell('import pandas as pd'); }\n    "
     },
     "metadata": {}
    },
    {
     "output_type": "display_data",
     "data": {
      "text/plain": "<IPython.core.display.Javascript object>",
      "application/javascript": "\n        if (window._pyforest_update_imports_cell) { window._pyforest_update_imports_cell('import pandas as pd'); }\n    "
     },
     "metadata": {}
    },
    {
     "output_type": "display_data",
     "data": {
      "text/plain": "<IPython.core.display.Javascript object>",
      "application/javascript": "\n        if (window._pyforest_update_imports_cell) { window._pyforest_update_imports_cell('import pandas as pd'); }\n    "
     },
     "metadata": {}
    },
    {
     "output_type": "display_data",
     "data": {
      "text/plain": "<IPython.core.display.Javascript object>",
      "application/javascript": "\n        if (window._pyforest_update_imports_cell) { window._pyforest_update_imports_cell('import pandas as pd'); }\n    "
     },
     "metadata": {}
    },
    {
     "output_type": "display_data",
     "data": {
      "text/plain": "<IPython.core.display.Javascript object>",
      "application/javascript": "\n        if (window._pyforest_update_imports_cell) { window._pyforest_update_imports_cell('import pandas as pd'); }\n    "
     },
     "metadata": {}
    },
    {
     "output_type": "display_data",
     "data": {
      "text/plain": "<IPython.core.display.Javascript object>",
      "application/javascript": "\n        if (window._pyforest_update_imports_cell) { window._pyforest_update_imports_cell('import pandas as pd'); }\n    "
     },
     "metadata": {}
    },
    {
     "output_type": "display_data",
     "data": {
      "text/plain": "<IPython.core.display.Javascript object>",
      "application/javascript": "\n        if (window._pyforest_update_imports_cell) { window._pyforest_update_imports_cell('import pandas as pd'); }\n    "
     },
     "metadata": {}
    },
    {
     "output_type": "display_data",
     "data": {
      "text/plain": "<IPython.core.display.Javascript object>",
      "application/javascript": "\n        if (window._pyforest_update_imports_cell) { window._pyforest_update_imports_cell('import pandas as pd'); }\n    "
     },
     "metadata": {}
    },
    {
     "output_type": "display_data",
     "data": {
      "text/plain": "<IPython.core.display.Javascript object>",
      "application/javascript": "\n        if (window._pyforest_update_imports_cell) { window._pyforest_update_imports_cell('import pandas as pd'); }\n    "
     },
     "metadata": {}
    }
   ],
   "source": [
    "test, censors = get_censored(df)"
   ]
  },
  {
   "cell_type": "code",
   "execution_count": 7,
   "metadata": {},
   "outputs": [],
   "source": [
    "def downsampling_to_days(df):\n",
    "    labels = df[\"Label\"].unique()\n",
    "    dfClean2 = pd.DataFrame(columns = df.columns[1:])\n",
    "    for label in labels:\n",
    "        d = df[df[\"Label\"] == label].resample(\"D\", on=\"Start Date\").agg({'Charging Time (mins)':'sum','Total Duration (mins)':'sum', 'Energy (kWh)':'sum', 'Fee (USD)':'sum', 'MAC Address':'min', 'Station Name':'min'}).fillna('')\n",
    "        d[\"Label\"] = label\n",
    "        \n",
    "        dfClean2 = dfClean2.append(d)\n",
    "    \n",
    "    dfClean2 = dfClean2.reset_index()\n",
    "    dfClean2 = dfClean2.rename(columns = {\"index\":\"Start Date\"})\n",
    "    \n",
    "    new_col_order = ['Start Date','Label','Charging Time (mins)','Total Duration (mins)', 'Energy (kWh)', 'Fee (USD)', 'MAC Address', 'Station Name']\n",
    "    dfClean3 = dfClean2[new_col_order]\n",
    "    return dfClean3"
   ]
  },
  {
   "cell_type": "code",
   "execution_count": 8,
   "metadata": {},
   "outputs": [
    {
     "output_type": "display_data",
     "data": {
      "text/plain": "<IPython.core.display.Javascript object>",
      "application/javascript": "\n        if (window._pyforest_update_imports_cell) { window._pyforest_update_imports_cell('import pandas as pd'); }\n    "
     },
     "metadata": {}
    }
   ],
   "source": [
    "df_down = downsampling_to_days(test)\n",
    "df_down = df_down.dropna(axis=1)\n",
    "df_down=df_down.set_index(\"Start Date\")"
   ]
  },
  {
   "cell_type": "code",
   "execution_count": 9,
   "metadata": {},
   "outputs": [
    {
     "output_type": "display_data",
     "data": {
      "text/plain": "<IPython.core.display.Javascript object>",
      "application/javascript": "\n        if (window._pyforest_update_imports_cell) { window._pyforest_update_imports_cell('import pandas as pd'); }\n    "
     },
     "metadata": {}
    },
    {
     "output_type": "display_data",
     "data": {
      "text/plain": "<IPython.core.display.Javascript object>",
      "application/javascript": "\n        if (window._pyforest_update_imports_cell) { window._pyforest_update_imports_cell('import pandas as pd'); }\n    "
     },
     "metadata": {}
    },
    {
     "output_type": "display_data",
     "data": {
      "text/plain": "<IPython.core.display.Javascript object>",
      "application/javascript": "\n        if (window._pyforest_update_imports_cell) { window._pyforest_update_imports_cell('import pandas as pd'); }\n    "
     },
     "metadata": {}
    },
    {
     "output_type": "display_data",
     "data": {
      "text/plain": "<IPython.core.display.Javascript object>",
      "application/javascript": "\n        if (window._pyforest_update_imports_cell) { window._pyforest_update_imports_cell('import pandas as pd'); }\n    "
     },
     "metadata": {}
    },
    {
     "output_type": "display_data",
     "data": {
      "text/plain": "<IPython.core.display.Javascript object>",
      "application/javascript": "\n        if (window._pyforest_update_imports_cell) { window._pyforest_update_imports_cell('import pandas as pd'); }\n    "
     },
     "metadata": {}
    },
    {
     "output_type": "display_data",
     "data": {
      "text/plain": "<IPython.core.display.Javascript object>",
      "application/javascript": "\n        if (window._pyforest_update_imports_cell) { window._pyforest_update_imports_cell('import pandas as pd'); }\n    "
     },
     "metadata": {}
    },
    {
     "output_type": "display_data",
     "data": {
      "text/plain": "<IPython.core.display.Javascript object>",
      "application/javascript": "\n        if (window._pyforest_update_imports_cell) { window._pyforest_update_imports_cell('import pandas as pd'); }\n    "
     },
     "metadata": {}
    },
    {
     "output_type": "display_data",
     "data": {
      "text/plain": "<IPython.core.display.Javascript object>",
      "application/javascript": "\n        if (window._pyforest_update_imports_cell) { window._pyforest_update_imports_cell('import pandas as pd'); }\n    "
     },
     "metadata": {}
    }
   ],
   "source": [
    "for i in range(8):\n",
    "    df_down.loc[lambda x: (x[\"Label\"]==i) & (x.index>pd.to_datetime(censors[i])), \"Censored\"] = 1"
   ]
  },
  {
   "cell_type": "code",
   "execution_count": 13,
   "metadata": {},
   "outputs": [],
   "source": [
    "df_down = df_down.fillna(0)"
   ]
  },
  {
   "cell_type": "code",
   "execution_count": 14,
   "metadata": {},
   "outputs": [],
   "source": [
    "df_down.to_csv(\"data\\createdDat\\Censorship_scheem\\Plugs_censord.csv\")"
   ]
  }
 ]
}