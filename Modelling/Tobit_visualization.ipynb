{
 "metadata": {
  "language_info": {
   "codemirror_mode": {
    "name": "ipython",
    "version": 3
   },
   "file_extension": ".py",
   "mimetype": "text/x-python",
   "name": "python",
   "nbconvert_exporter": "python",
   "pygments_lexer": "ipython3",
   "version": "3.7.4"
  },
  "orig_nbformat": 2,
  "kernelspec": {
   "name": "pythonjvsc74a57bd059fd5f8a430795c13ac3d8bfcb709109ed9a027f57069bd26c0faa31c7520fc1",
   "display_name": "Python 3.7.4 64-bit ('env': venv)"
  },
  "metadata": {
   "interpreter": {
    "hash": "59fd5f8a430795c13ac3d8bfcb709109ed9a027f57069bd26c0faa31c7520fc1"
   }
  }
 },
 "nbformat": 4,
 "nbformat_minor": 2,
 "cells": [
  {
   "cell_type": "code",
   "execution_count": 1,
   "metadata": {},
   "outputs": [
    {
     "output_type": "stream",
     "name": "stdout",
     "text": [
      "c:\\Users\\frede\\OneDrive - Danmarks Tekniske Universitet\\DTU\\6. Semester\\Bachelor2021-1\n"
     ]
    }
   ],
   "source": [
    "import sys\n",
    "sys.path.append(\"..\")\n",
    "%cd .."
   ]
  },
  {
   "cell_type": "code",
   "execution_count": 2,
   "metadata": {},
   "outputs": [],
   "source": [
    "from sklearn.metrics import r2_score, mean_squared_error\n",
    "from DataPrep.load_data import load_data\n",
    "import pyforest"
   ]
  },
  {
   "cell_type": "code",
   "execution_count": 3,
   "metadata": {},
   "outputs": [],
   "source": [
    "df = load_data()"
   ]
  },
  {
   "cell_type": "code",
   "execution_count": null,
   "metadata": {},
   "outputs": [],
   "source": [
    "cmap = plt.cm.bone\n",
    "rmap = plt.cm.Reds\n",
    "bmap = plt.cm.YlGn\n",
    "\n",
    "for label in range(8):\n",
    "    pred = pd.read_csv(f\"data\\createdDat\\Censorship_scheem\\Tobit_0.5_censor_label{label}.csv\")\n",
    "    test_df = df[df[\"Label\"]==label]\n",
    "    test_df = test_df[-len(pred):]\n",
    "    #plt.figure(figsize=(15,5))\n",
    "    pd.DataFrame([test_df[\"Energy (kWh)\"],pred[\"Tobit_pred\"],pred[\"Ridge_pred\"]]).plot.area(stacked=False)\n",
    "    #plt.plot(test_df.index,pred[\"Tobit_pred\"], alpha = 0.5, label = \"Tobit\",color=rmap(0.5))\n",
    "    #plt.plot(test_df.index,pred[\"ridge_pred\"], alpha=0.5, label = \"Ridge\",color=bmap(0.3))\n",
    "    plt.title(f\"Label{label}\")\n",
    "    plt.legend()\n",
    "    plt.show()\n",
    "    print(f'r^2 score: {r2_score(test_df[\"Energy (kWh)\"],pred[\"Tobit_pred\"])}')\n",
    "    print(f'RMSE: {np.sqrt(mean_squared_error(test_df[\"Energy (kWh)\"],pred[\"Tobit_pred\"]))}')"
   ]
  },
  {
   "cell_type": "code",
   "execution_count": null,
   "metadata": {},
   "outputs": [],
   "source": []
  },
  {
   "cell_type": "code",
   "execution_count": null,
   "metadata": {},
   "outputs": [],
   "source": []
  },
  {
   "cell_type": "code",
   "execution_count": null,
   "metadata": {},
   "outputs": [],
   "source": []
  },
  {
   "cell_type": "code",
   "execution_count": null,
   "metadata": {},
   "outputs": [],
   "source": []
  },
  {
   "cell_type": "code",
   "execution_count": null,
   "metadata": {},
   "outputs": [],
   "source": []
  },
  {
   "cell_type": "code",
   "execution_count": null,
   "metadata": {},
   "outputs": [],
   "source": []
  },
  {
   "cell_type": "code",
   "execution_count": null,
   "metadata": {},
   "outputs": [],
   "source": []
  },
  {
   "cell_type": "code",
   "execution_count": null,
   "metadata": {},
   "outputs": [],
   "source": []
  },
  {
   "cell_type": "code",
   "execution_count": null,
   "metadata": {},
   "outputs": [],
   "source": []
  },
  {
   "cell_type": "code",
   "execution_count": null,
   "metadata": {},
   "outputs": [],
   "source": []
  },
  {
   "cell_type": "code",
   "execution_count": null,
   "metadata": {},
   "outputs": [],
   "source": []
  }
 ]
}