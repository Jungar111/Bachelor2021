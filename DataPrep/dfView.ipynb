{
 "cells": [
  {
   "cell_type": "code",
   "execution_count": 1,
   "metadata": {},
   "outputs": [
    {
     "name": "stdout",
     "output_type": "stream",
     "text": [
      "/Users/AsgerSturisTang/OneDrive - Danmarks Tekniske Universitet/DTU/6. Semester/Bachelor2021\n"
     ]
    }
   ],
   "source": [
    "import sys\n",
    "sys.path.append(\"..\")\n",
    "%cd .."
   ]
  },
  {
   "cell_type": "code",
   "execution_count": null,
   "metadata": {},
   "outputs": [],
   "source": []
  },
  {
   "cell_type": "code",
   "execution_count": 2,
   "metadata": {},
   "outputs": [],
   "source": [
    "import pyforest\n",
    "from DataPrep.ImportData import importer"
   ]
  },
  {
   "cell_type": "code",
   "execution_count": 3,
   "metadata": {},
   "outputs": [
    {
     "data": {
      "application/javascript": [
       "\n",
       "        if (window._pyforest_update_imports_cell) { window._pyforest_update_imports_cell('import pandas as pd'); }\n",
       "    "
      ],
      "text/plain": [
       "<IPython.core.display.Javascript object>"
      ]
     },
     "metadata": {},
     "output_type": "display_data"
    },
    {
     "name": "stderr",
     "output_type": "stream",
     "text": [
      "/Users/AsgerSturisTang/OneDrive - Danmarks Tekniske Universitet/DTU/6. Semester/Bachelor2021/env/lib/python3.7/site-packages/IPython/core/interactiveshell.py:3156: DtypeWarning: Columns (0) have mixed types.Specify dtype option on import or set low_memory=False.\n",
      "  interactivity=interactivity, compiler=compiler, result=result)\n"
     ]
    }
   ],
   "source": [
    "cData = pd.read_csv(\"Data/createdDat/CenteredData.csv\")"
   ]
  },
  {
   "cell_type": "code",
   "execution_count": 4,
   "metadata": {},
   "outputs": [
    {
     "data": {
      "text/plain": [
       "2"
      ]
     },
     "execution_count": 4,
     "metadata": {},
     "output_type": "execute_result"
    }
   ],
   "source": [
    "cData[\"Label\"].isna().sum()"
   ]
  },
  {
   "cell_type": "code",
   "execution_count": 5,
   "metadata": {},
   "outputs": [
    {
     "data": {
      "application/javascript": [
       "\n",
       "        if (window._pyforest_update_imports_cell) { window._pyforest_update_imports_cell('import pandas as pd'); }\n",
       "    "
      ],
      "text/plain": [
       "<IPython.core.display.Javascript object>"
      ]
     },
     "metadata": {},
     "output_type": "display_data"
    },
    {
     "data": {
      "text/html": [
       "<div>\n",
       "<style scoped>\n",
       "    .dataframe tbody tr th:only-of-type {\n",
       "        vertical-align: middle;\n",
       "    }\n",
       "\n",
       "    .dataframe tbody tr th {\n",
       "        vertical-align: top;\n",
       "    }\n",
       "\n",
       "    .dataframe thead th {\n",
       "        text-align: right;\n",
       "    }\n",
       "</style>\n",
       "<table border=\"1\" class=\"dataframe\">\n",
       "  <thead>\n",
       "    <tr style=\"text-align: right;\">\n",
       "      <th></th>\n",
       "      <th>Unnamed: 0</th>\n",
       "      <th>Start Date</th>\n",
       "      <th>Label</th>\n",
       "      <th>Original Port Type</th>\n",
       "      <th>Charging Time (hh:mm:ss)</th>\n",
       "      <th>Energy (kWh)</th>\n",
       "      <th>Total Duration (hh:mm:ss)</th>\n",
       "      <th>Port Number</th>\n",
       "      <th>CenterLon</th>\n",
       "      <th>CenterLat</th>\n",
       "      <th>Level 1</th>\n",
       "      <th>Level 2</th>\n",
       "    </tr>\n",
       "  </thead>\n",
       "  <tbody>\n",
       "    <tr>\n",
       "      <th>0</th>\n",
       "      <td>0</td>\n",
       "      <td>2011-07-29 20:00:00</td>\n",
       "      <td>0.0</td>\n",
       "      <td>['Level 2']</td>\n",
       "      <td>103.045175</td>\n",
       "      <td>5.646439</td>\n",
       "      <td>165.823977</td>\n",
       "      <td>2.0</td>\n",
       "      <td>-122.16</td>\n",
       "      <td>37.445</td>\n",
       "      <td>0</td>\n",
       "      <td>1</td>\n",
       "    </tr>\n",
       "    <tr>\n",
       "      <th>1</th>\n",
       "      <td>1</td>\n",
       "      <td>2011-07-29 22:00:00</td>\n",
       "      <td>0.0</td>\n",
       "      <td>['Level 2']</td>\n",
       "      <td>11.004825</td>\n",
       "      <td>0.603018</td>\n",
       "      <td>17.709357</td>\n",
       "      <td>2.0</td>\n",
       "      <td>-122.16</td>\n",
       "      <td>37.445</td>\n",
       "      <td>0</td>\n",
       "      <td>1</td>\n",
       "    </tr>\n",
       "    <tr>\n",
       "      <th>2</th>\n",
       "      <td>2</td>\n",
       "      <td>2011-07-30 00:00:00</td>\n",
       "      <td>0.0</td>\n",
       "      <td>['Level 2']</td>\n",
       "      <td>1.900000</td>\n",
       "      <td>0.106588</td>\n",
       "      <td>2.100000</td>\n",
       "      <td>2.0</td>\n",
       "      <td>-122.16</td>\n",
       "      <td>37.445</td>\n",
       "      <td>0</td>\n",
       "      <td>1</td>\n",
       "    </tr>\n",
       "    <tr>\n",
       "      <th>3</th>\n",
       "      <td>3</td>\n",
       "      <td>2011-07-30 08:00:00</td>\n",
       "      <td>0.0</td>\n",
       "      <td>['Level 2']</td>\n",
       "      <td>104.188846</td>\n",
       "      <td>6.050525</td>\n",
       "      <td>104.215824</td>\n",
       "      <td>2.0</td>\n",
       "      <td>-122.16</td>\n",
       "      <td>37.445</td>\n",
       "      <td>0</td>\n",
       "      <td>1</td>\n",
       "    </tr>\n",
       "    <tr>\n",
       "      <th>4</th>\n",
       "      <td>4</td>\n",
       "      <td>2011-07-30 10:00:00</td>\n",
       "      <td>0.0</td>\n",
       "      <td>['Level 2']</td>\n",
       "      <td>120.217899</td>\n",
       "      <td>6.981374</td>\n",
       "      <td>120.249027</td>\n",
       "      <td>2.0</td>\n",
       "      <td>-122.16</td>\n",
       "      <td>37.445</td>\n",
       "      <td>0</td>\n",
       "      <td>1</td>\n",
       "    </tr>\n",
       "  </tbody>\n",
       "</table>\n",
       "</div>"
      ],
      "text/plain": [
       "   Unnamed: 0           Start Date  Label Original Port Type  \\\n",
       "0           0  2011-07-29 20:00:00    0.0        ['Level 2']   \n",
       "1           1  2011-07-29 22:00:00    0.0        ['Level 2']   \n",
       "2           2  2011-07-30 00:00:00    0.0        ['Level 2']   \n",
       "3           3  2011-07-30 08:00:00    0.0        ['Level 2']   \n",
       "4           4  2011-07-30 10:00:00    0.0        ['Level 2']   \n",
       "\n",
       "   Charging Time (hh:mm:ss)  Energy (kWh)  Total Duration (hh:mm:ss)  \\\n",
       "0                103.045175      5.646439                 165.823977   \n",
       "1                 11.004825      0.603018                  17.709357   \n",
       "2                  1.900000      0.106588                   2.100000   \n",
       "3                104.188846      6.050525                 104.215824   \n",
       "4                120.217899      6.981374                 120.249027   \n",
       "\n",
       "   Port Number  CenterLon  CenterLat  Level 1  Level 2  \n",
       "0          2.0    -122.16     37.445        0        1  \n",
       "1          2.0    -122.16     37.445        0        1  \n",
       "2          2.0    -122.16     37.445        0        1  \n",
       "3          2.0    -122.16     37.445        0        1  \n",
       "4          2.0    -122.16     37.445        0        1  "
      ]
     },
     "execution_count": 5,
     "metadata": {},
     "output_type": "execute_result"
    }
   ],
   "source": [
    "bData = pd.read_csv(\"Data/createdDat/TimeBuckets.csv\")\n",
    "bData.head()"
   ]
  },
  {
   "cell_type": "code",
   "execution_count": 6,
   "metadata": {},
   "outputs": [
    {
     "data": {
      "text/plain": [
       "array([0., 1., 2., 3., 4., 5., 6., 7.])"
      ]
     },
     "execution_count": 6,
     "metadata": {},
     "output_type": "execute_result"
    }
   ],
   "source": [
    "bData[\"Label\"].unique()"
   ]
  },
  {
   "cell_type": "code",
   "execution_count": 3,
   "metadata": {},
   "outputs": [],
   "source": [
    "im = importer()"
   ]
  },
  {
   "cell_type": "code",
   "execution_count": 4,
   "metadata": {},
   "outputs": [],
   "source": [
    "dfClean = im.Import()"
   ]
  },
  {
   "cell_type": "code",
   "execution_count": 19,
   "metadata": {},
   "outputs": [
    {
     "data": {
      "text/plain": [
       "Timestamp('2019-12-31 00:00:00')"
      ]
     },
     "execution_count": 19,
     "metadata": {},
     "output_type": "execute_result"
    }
   ],
   "source": [
    "dfClean[\"Start Date\"].max()"
   ]
  },
  {
   "cell_type": "code",
   "execution_count": 9,
   "metadata": {},
   "outputs": [
    {
     "data": {
      "text/plain": [
       "array([0., 1., 2., 3., 4., 5., 6., 7.])"
      ]
     },
     "execution_count": 9,
     "metadata": {},
     "output_type": "execute_result"
    }
   ],
   "source": [
    "dfClean[\"Label\"].unique()"
   ]
  },
  {
   "cell_type": "code",
   "execution_count": 13,
   "metadata": {},
   "outputs": [
    {
     "data": {
      "text/plain": [
       "Index(['Unnamed: 0', 'Start Date', 'Label', 'Original Port Type',\n",
       "       'Charging Time (hh:mm:ss)', 'Energy (kWh)', 'Total Duration (hh:mm:ss)',\n",
       "       'Port Number', 'CenterLon', 'CenterLat', 'Level 1', 'Level 2'],\n",
       "      dtype='object')"
      ]
     },
     "execution_count": 13,
     "metadata": {},
     "output_type": "execute_result"
    }
   ],
   "source": [
    "dfClean.shape\n",
    "\n",
    "bData.columns"
   ]
  },
  {
   "cell_type": "code",
   "execution_count": 29,
   "metadata": {
    "tags": []
   },
   "outputs": [
    {
     "data": {
      "application/javascript": [
       "\n",
       "        if (window._pyforest_update_imports_cell) { window._pyforest_update_imports_cell('import pandas as pd'); }\n",
       "    "
      ],
      "text/plain": [
       "<IPython.core.display.Javascript object>"
      ]
     },
     "metadata": {},
     "output_type": "display_data"
    }
   ],
   "source": [
    "labels = dfClean[\"Label\"].unique()\n",
    "\n",
    "dfClean2 = pd.DataFrame(columns = [\"Charging Time (mins)\", \"Energy (kWh)\", \"Total Duration (mins)\",\"Port Number\", \"CenterLon\", \"CenterLat\", \"Level 1\", \"Level 2\"])\n",
    "\n",
    "\n",
    "for label in labels:\n",
    "    d = dfClean[dfClean[\"Label\"] == label].resample(\"D\", on=\"Start Date\").agg({'Charging Time (mins)':'sum', 'Energy (kWh)':'sum', 'Total Duration (mins)':'sum', 'Port Number':'sum', 'CenterLon':'min', 'CenterLat':'min','Level 1':'sum', 'Level 2': 'sum'})\n",
    "    d[\"Label\"] = label\n",
    "    \n",
    "    dfClean2 = dfClean2.append(d)\n",
    "\n"
   ]
  },
  {
   "cell_type": "code",
   "execution_count": 30,
   "metadata": {},
   "outputs": [],
   "source": [
    "dfClean2 = dfClean2.reset_index()"
   ]
  },
  {
   "cell_type": "code",
   "execution_count": 35,
   "metadata": {},
   "outputs": [
    {
     "data": {
      "text/html": [
       "<div>\n",
       "<style scoped>\n",
       "    .dataframe tbody tr th:only-of-type {\n",
       "        vertical-align: middle;\n",
       "    }\n",
       "\n",
       "    .dataframe tbody tr th {\n",
       "        vertical-align: top;\n",
       "    }\n",
       "\n",
       "    .dataframe thead th {\n",
       "        text-align: right;\n",
       "    }\n",
       "</style>\n",
       "<table border=\"1\" class=\"dataframe\">\n",
       "  <thead>\n",
       "    <tr style=\"text-align: right;\">\n",
       "      <th></th>\n",
       "      <th>Start Date</th>\n",
       "      <th>Charging Time (mins)</th>\n",
       "      <th>Energy (kWh)</th>\n",
       "      <th>Total Duration (mins)</th>\n",
       "      <th>Port Number</th>\n",
       "      <th>CenterLon</th>\n",
       "      <th>CenterLat</th>\n",
       "      <th>Level 1</th>\n",
       "      <th>Level 2</th>\n",
       "      <th>Label</th>\n",
       "    </tr>\n",
       "  </thead>\n",
       "  <tbody>\n",
       "    <tr>\n",
       "      <th>0</th>\n",
       "      <td>2011-07-29</td>\n",
       "      <td>114.050000</td>\n",
       "      <td>3.124728</td>\n",
       "      <td>183.533333</td>\n",
       "      <td>4.0</td>\n",
       "      <td>-122.160000</td>\n",
       "      <td>37.445</td>\n",
       "      <td>0</td>\n",
       "      <td>2</td>\n",
       "      <td>0.0</td>\n",
       "    </tr>\n",
       "    <tr>\n",
       "      <th>1</th>\n",
       "      <td>2011-07-30</td>\n",
       "      <td>426.233333</td>\n",
       "      <td>12.087886</td>\n",
       "      <td>454.433333</td>\n",
       "      <td>14.0</td>\n",
       "      <td>-122.160000</td>\n",
       "      <td>37.445</td>\n",
       "      <td>0</td>\n",
       "      <td>7</td>\n",
       "      <td>0.0</td>\n",
       "    </tr>\n",
       "    <tr>\n",
       "      <th>2</th>\n",
       "      <td>2011-07-31</td>\n",
       "      <td>647.866667</td>\n",
       "      <td>18.604581</td>\n",
       "      <td>725.983333</td>\n",
       "      <td>16.0</td>\n",
       "      <td>-122.160000</td>\n",
       "      <td>37.445</td>\n",
       "      <td>0</td>\n",
       "      <td>8</td>\n",
       "      <td>0.0</td>\n",
       "    </tr>\n",
       "    <tr>\n",
       "      <th>3</th>\n",
       "      <td>2011-08-01</td>\n",
       "      <td>95.133333</td>\n",
       "      <td>2.520622</td>\n",
       "      <td>203.566667</td>\n",
       "      <td>4.0</td>\n",
       "      <td>-122.160000</td>\n",
       "      <td>37.445</td>\n",
       "      <td>0</td>\n",
       "      <td>2</td>\n",
       "      <td>0.0</td>\n",
       "    </tr>\n",
       "    <tr>\n",
       "      <th>4</th>\n",
       "      <td>2011-08-02</td>\n",
       "      <td>72.550000</td>\n",
       "      <td>2.098609</td>\n",
       "      <td>72.716667</td>\n",
       "      <td>2.0</td>\n",
       "      <td>-122.160000</td>\n",
       "      <td>37.445</td>\n",
       "      <td>0</td>\n",
       "      <td>1</td>\n",
       "      <td>0.0</td>\n",
       "    </tr>\n",
       "    <tr>\n",
       "      <th>...</th>\n",
       "      <td>...</td>\n",
       "      <td>...</td>\n",
       "      <td>...</td>\n",
       "      <td>...</td>\n",
       "      <td>...</td>\n",
       "      <td>...</td>\n",
       "      <td>...</td>\n",
       "      <td>...</td>\n",
       "      <td>...</td>\n",
       "      <td>...</td>\n",
       "    </tr>\n",
       "    <tr>\n",
       "      <th>17381</th>\n",
       "      <td>2019-12-27</td>\n",
       "      <td>1056.250000</td>\n",
       "      <td>38.408029</td>\n",
       "      <td>1122.883333</td>\n",
       "      <td>24.0</td>\n",
       "      <td>-122.143998</td>\n",
       "      <td>37.428</td>\n",
       "      <td>0</td>\n",
       "      <td>15</td>\n",
       "      <td>7.0</td>\n",
       "    </tr>\n",
       "    <tr>\n",
       "      <th>17382</th>\n",
       "      <td>2019-12-28</td>\n",
       "      <td>417.533333</td>\n",
       "      <td>26.574307</td>\n",
       "      <td>1550.883333</td>\n",
       "      <td>9.0</td>\n",
       "      <td>-122.143998</td>\n",
       "      <td>37.429</td>\n",
       "      <td>0</td>\n",
       "      <td>7</td>\n",
       "      <td>7.0</td>\n",
       "    </tr>\n",
       "    <tr>\n",
       "      <th>17383</th>\n",
       "      <td>2019-12-29</td>\n",
       "      <td>626.400000</td>\n",
       "      <td>18.724080</td>\n",
       "      <td>669.133333</td>\n",
       "      <td>16.0</td>\n",
       "      <td>-122.143998</td>\n",
       "      <td>37.428</td>\n",
       "      <td>0</td>\n",
       "      <td>11</td>\n",
       "      <td>7.0</td>\n",
       "    </tr>\n",
       "    <tr>\n",
       "      <th>17384</th>\n",
       "      <td>2019-12-30</td>\n",
       "      <td>1305.850000</td>\n",
       "      <td>23.697765</td>\n",
       "      <td>1357.183333</td>\n",
       "      <td>25.0</td>\n",
       "      <td>-122.143998</td>\n",
       "      <td>37.428</td>\n",
       "      <td>0</td>\n",
       "      <td>19</td>\n",
       "      <td>7.0</td>\n",
       "    </tr>\n",
       "    <tr>\n",
       "      <th>17385</th>\n",
       "      <td>2019-12-31</td>\n",
       "      <td>1004.683333</td>\n",
       "      <td>24.812763</td>\n",
       "      <td>1006.866667</td>\n",
       "      <td>26.0</td>\n",
       "      <td>-122.143998</td>\n",
       "      <td>37.428</td>\n",
       "      <td>0</td>\n",
       "      <td>17</td>\n",
       "      <td>7.0</td>\n",
       "    </tr>\n",
       "  </tbody>\n",
       "</table>\n",
       "<p>17386 rows × 10 columns</p>\n",
       "</div>"
      ],
      "text/plain": [
       "      Start Date  Charging Time (mins)  Energy (kWh)  Total Duration (mins)  \\\n",
       "0     2011-07-29            114.050000      3.124728             183.533333   \n",
       "1     2011-07-30            426.233333     12.087886             454.433333   \n",
       "2     2011-07-31            647.866667     18.604581             725.983333   \n",
       "3     2011-08-01             95.133333      2.520622             203.566667   \n",
       "4     2011-08-02             72.550000      2.098609              72.716667   \n",
       "...          ...                   ...           ...                    ...   \n",
       "17381 2019-12-27           1056.250000     38.408029            1122.883333   \n",
       "17382 2019-12-28            417.533333     26.574307            1550.883333   \n",
       "17383 2019-12-29            626.400000     18.724080             669.133333   \n",
       "17384 2019-12-30           1305.850000     23.697765            1357.183333   \n",
       "17385 2019-12-31           1004.683333     24.812763            1006.866667   \n",
       "\n",
       "       Port Number   CenterLon  CenterLat Level 1 Level 2  Label  \n",
       "0              4.0 -122.160000     37.445       0       2    0.0  \n",
       "1             14.0 -122.160000     37.445       0       7    0.0  \n",
       "2             16.0 -122.160000     37.445       0       8    0.0  \n",
       "3              4.0 -122.160000     37.445       0       2    0.0  \n",
       "4              2.0 -122.160000     37.445       0       1    0.0  \n",
       "...            ...         ...        ...     ...     ...    ...  \n",
       "17381         24.0 -122.143998     37.428       0      15    7.0  \n",
       "17382          9.0 -122.143998     37.429       0       7    7.0  \n",
       "17383         16.0 -122.143998     37.428       0      11    7.0  \n",
       "17384         25.0 -122.143998     37.428       0      19    7.0  \n",
       "17385         26.0 -122.143998     37.428       0      17    7.0  \n",
       "\n",
       "[17386 rows x 10 columns]"
      ]
     },
     "execution_count": 35,
     "metadata": {},
     "output_type": "execute_result"
    }
   ],
   "source": [
    "\n",
    "dfClean2 = dfClean2.rename(columns = {\"index\":\"Start Date\"})\n"
   ]
  },
  {
   "cell_type": "code",
   "execution_count": 23,
   "metadata": {},
   "outputs": [
    {
     "data": {
      "text/plain": [
       "Charging Time (mins)       0\n",
       "Energy (kWh)               0\n",
       "Total Duration (mins)      0\n",
       "Port Number                0\n",
       "CenterLon                100\n",
       "CenterLat                100\n",
       "Level 1                    0\n",
       "Level 2                    0\n",
       "Label                      0\n",
       "dtype: int64"
      ]
     },
     "execution_count": 23,
     "metadata": {},
     "output_type": "execute_result"
    }
   ],
   "source": [
    "dfClean2.isna().sum()"
   ]
  }
 ],
 "metadata": {
  "kernelspec": {
   "display_name": "Python 3",
   "language": "python",
   "name": "python3"
  },
  "language_info": {
   "codemirror_mode": {
    "name": "ipython",
    "version": 3
   },
   "file_extension": ".py",
   "mimetype": "text/x-python",
   "name": "python",
   "nbconvert_exporter": "python",
   "pygments_lexer": "ipython3",
   "version": "3.7.1"
  }
 },
 "nbformat": 4,
 "nbformat_minor": 4
}
