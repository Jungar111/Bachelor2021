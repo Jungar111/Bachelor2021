{
 "metadata": {
  "language_info": {
   "codemirror_mode": {
    "name": "ipython",
    "version": 3
   },
   "file_extension": ".py",
   "mimetype": "text/x-python",
   "name": "python",
   "nbconvert_exporter": "python",
   "pygments_lexer": "ipython3",
   "version": "3.7.1-final"
  },
  "orig_nbformat": 2,
  "kernelspec": {
   "name": "python3",
   "display_name": "Python 3.7.1 64-bit ('env': venv)",
   "metadata": {
    "interpreter": {
     "hash": "c6bc2269e678706e2f73580c48ddd1554ab9d1a06b4f1c260f2e5b0bd42ab940"
    }
   }
  }
 },
 "nbformat": 4,
 "nbformat_minor": 2,
 "cells": [
  {
   "source": [
    "<h1> Dundee Dataset </h1>"
   ],
   "cell_type": "markdown",
   "metadata": {}
  },
  {
   "source": [
    "<h2>Imports</h2>"
   ],
   "cell_type": "markdown",
   "metadata": {}
  },
  {
   "cell_type": "code",
   "execution_count": null,
   "metadata": {},
   "outputs": [],
   "source": [
    "from dataclean_dundee import clean_dundee\n",
    "from datavis_dundee import datavis\n",
    "import matplotlib.pyplot as plt\n"
   ]
  },
  {
   "source": [
    "<h2>Data cleaning</h2>"
   ],
   "cell_type": "markdown",
   "metadata": {}
  },
  {
   "source": [
    "We start by loading and cleaning the data.\n",
    "The data will be cleaned by \n",
    "\n",
    "\n",
    "<ul>\n",
    "    <li>Removing rows containing NA's</li>\n",
    "    <li>Correcting the dates to fit datetime format</li>\n",
    "    <li>Adding new columns</li>\n",
    "    <ul>\n",
    "        <li>Datetime_start: Start Date and Start Time merged to one column</li>\n",
    "        <li>Datetime_end: End Date and End Time merged to one column</li>\n",
    "        <li>chargeTime: a column describing charging time</li>\n",
    "    </ul>\n",
    "</ul>\n",
    "\n"
   ],
   "cell_type": "markdown",
   "metadata": {}
  },
  {
   "cell_type": "code",
   "execution_count": null,
   "metadata": {},
   "outputs": [],
   "source": [
    "clean = clean_dundee()\n",
    "dundee_data = clean.clean_data()\n"
   ]
  },
  {
   "source": [
    "We will then visualize the data using our created visualization class"
   ],
   "cell_type": "markdown",
   "metadata": {}
  },
  {
   "cell_type": "code",
   "execution_count": null,
   "metadata": {},
   "outputs": [],
   "source": [
    "viz = datavis()\n",
    "viz.pairs_plot(dundee_data)"
   ]
  },
  {
   "cell_type": "code",
   "execution_count": null,
   "metadata": {},
   "outputs": [],
   "source": [
    "plt.rcParams['figure.figsize'] = [25, 20]\n",
    "viz.distplot(dundee_data, 3, 5)"
   ]
  },
  {
   "cell_type": "code",
   "execution_count": null,
   "metadata": {},
   "outputs": [],
   "source": []
  }
 ]
}