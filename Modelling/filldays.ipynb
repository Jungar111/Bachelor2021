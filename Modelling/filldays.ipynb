{
 "metadata": {
  "language_info": {
   "codemirror_mode": {
    "name": "ipython",
    "version": 3
   },
   "file_extension": ".py",
   "mimetype": "text/x-python",
   "name": "python",
   "nbconvert_exporter": "python",
   "pygments_lexer": "ipython3",
   "version": "3.7.1"
  },
  "orig_nbformat": 2,
  "kernelspec": {
   "name": "python371jvsc74a57bd06df705a1df32f4a92ae938805853bbc6abb67c9c9a0feafcb35a93f4480b8013",
   "display_name": "Python 3.7.1 64-bit",
   "language": "python"
  }
 },
 "nbformat": 4,
 "nbformat_minor": 2,
 "cells": [
  {
   "cell_type": "code",
   "execution_count": 1,
   "metadata": {},
   "outputs": [
    {
     "output_type": "stream",
     "name": "stdout",
     "text": [
      "/Users/AsgerSturisTang/OneDrive - Danmarks Tekniske Universitet/DTU/6. Semester/Bachelor2021\n"
     ]
    }
   ],
   "source": [
    "import pandas as pd\n",
    "# ^^^ pyforest auto-imports - don't write above this line\n",
    "import sys\n",
    "sys.path.append(\"..\")\n",
    "%cd .."
   ]
  },
  {
   "cell_type": "code",
   "execution_count": 33,
   "metadata": {},
   "outputs": [
    {
     "output_type": "error",
     "ename": "ModuleNotFoundError",
     "evalue": "No module named 'Modelling.Modelling'; 'Modelling' is not a package",
     "traceback": [
      "\u001b[0;31m---------------------------------------------------------------------------\u001b[0m",
      "\u001b[0;31mModuleNotFoundError\u001b[0m                       Traceback (most recent call last)",
      "\u001b[0;32m<ipython-input-33-e5d9718b0ba3>\u001b[0m in \u001b[0;36m<module>\u001b[0;34m\u001b[0m\n\u001b[1;32m      9\u001b[0m \u001b[0;32mfrom\u001b[0m \u001b[0msklearn\u001b[0m\u001b[0;34m.\u001b[0m\u001b[0mpreprocessing\u001b[0m \u001b[0;32mimport\u001b[0m \u001b[0mStandardScaler\u001b[0m\u001b[0;34m\u001b[0m\u001b[0;34m\u001b[0m\u001b[0m\n\u001b[1;32m     10\u001b[0m \u001b[0;32mfrom\u001b[0m \u001b[0msklearn\u001b[0m\u001b[0;34m.\u001b[0m\u001b[0mmetrics\u001b[0m \u001b[0;32mimport\u001b[0m \u001b[0mmean_squared_error\u001b[0m\u001b[0;34m,\u001b[0m \u001b[0mr2_score\u001b[0m\u001b[0;34m,\u001b[0m \u001b[0mmean_absolute_error\u001b[0m\u001b[0;34m,\u001b[0m \u001b[0mmean_absolute_percentage_error\u001b[0m\u001b[0;34m\u001b[0m\u001b[0;34m\u001b[0m\u001b[0m\n\u001b[0;32m---> 11\u001b[0;31m \u001b[0;32mfrom\u001b[0m \u001b[0mModelling\u001b[0m\u001b[0;34m.\u001b[0m\u001b[0mModelling\u001b[0m \u001b[0;32mimport\u001b[0m \u001b[0mmodelling\u001b[0m\u001b[0;34m\u001b[0m\u001b[0;34m\u001b[0m\u001b[0m\n\u001b[0m\u001b[1;32m     12\u001b[0m \u001b[0;34m\u001b[0m\u001b[0m\n",
      "\u001b[0;31mModuleNotFoundError\u001b[0m: No module named 'Modelling.Modelling'; 'Modelling' is not a package"
     ]
    }
   ],
   "source": [
    "from DataPrep.ImportData import importer\n",
    "from Modelling import modelling\n",
    "import keras\n",
    "from keras import Sequential, Model\n",
    "from keras.layers import Dense, LSTM, Dropout, Input, Reshape\n",
    "import pyforest\n",
    "import torch\n",
    "from tensorflow.keras import regularizers\n",
    "from sklearn.preprocessing import StandardScaler\n",
    "from sklearn.metrics import mean_squared_error, r2_score, mean_absolute_error, mean_absolute_percentage_error\n",
    "from Modelling.Modelling import modelling\n",
    "\n"
   ]
  },
  {
   "cell_type": "code",
   "execution_count": 3,
   "metadata": {},
   "outputs": [],
   "source": [
    "df = importer().Import()"
   ]
  },
  {
   "cell_type": "code",
   "execution_count": 10,
   "metadata": {},
   "outputs": [
    {
     "output_type": "error",
     "ename": "KeyError",
     "evalue": "\"None of ['Start Date'] are in the columns\"",
     "traceback": [
      "\u001b[0;31m---------------------------------------------------------------------------\u001b[0m",
      "\u001b[0;31mKeyError\u001b[0m                                  Traceback (most recent call last)",
      "\u001b[0;32m<ipython-input-10-f44ddac42d83>\u001b[0m in \u001b[0;36m<module>\u001b[0;34m\u001b[0m\n\u001b[0;32m----> 1\u001b[0;31m \u001b[0mdf\u001b[0m \u001b[0;34m=\u001b[0m \u001b[0mdf\u001b[0m\u001b[0;34m.\u001b[0m\u001b[0mset_index\u001b[0m\u001b[0;34m(\u001b[0m\u001b[0;34m\"Start Date\"\u001b[0m\u001b[0;34m)\u001b[0m\u001b[0;34m\u001b[0m\u001b[0;34m\u001b[0m\u001b[0m\n\u001b[0m\u001b[1;32m      2\u001b[0m \u001b[0mdf\u001b[0m\u001b[0;34m.\u001b[0m\u001b[0mindex\u001b[0m\u001b[0;34m.\u001b[0m\u001b[0mto_period\u001b[0m\u001b[0;34m(\u001b[0m\u001b[0;34m\"D\"\u001b[0m\u001b[0;34m)\u001b[0m\u001b[0;34m\u001b[0m\u001b[0;34m\u001b[0m\u001b[0m\n",
      "\u001b[0;32m~/OneDrive - Danmarks Tekniske Universitet/DTU/6. Semester/Bachelor2021/env/lib/python3.7/site-packages/pandas/core/frame.py\u001b[0m in \u001b[0;36mset_index\u001b[0;34m(self, keys, drop, append, inplace, verify_integrity)\u001b[0m\n\u001b[1;32m   4553\u001b[0m \u001b[0;34m\u001b[0m\u001b[0m\n\u001b[1;32m   4554\u001b[0m         \u001b[0;32mif\u001b[0m \u001b[0mmissing\u001b[0m\u001b[0;34m:\u001b[0m\u001b[0;34m\u001b[0m\u001b[0;34m\u001b[0m\u001b[0m\n\u001b[0;32m-> 4555\u001b[0;31m             \u001b[0;32mraise\u001b[0m \u001b[0mKeyError\u001b[0m\u001b[0;34m(\u001b[0m\u001b[0;34mf\"None of {missing} are in the columns\"\u001b[0m\u001b[0;34m)\u001b[0m\u001b[0;34m\u001b[0m\u001b[0;34m\u001b[0m\u001b[0m\n\u001b[0m\u001b[1;32m   4556\u001b[0m \u001b[0;34m\u001b[0m\u001b[0m\n\u001b[1;32m   4557\u001b[0m         \u001b[0;32mif\u001b[0m \u001b[0minplace\u001b[0m\u001b[0;34m:\u001b[0m\u001b[0;34m\u001b[0m\u001b[0;34m\u001b[0m\u001b[0m\n",
      "\u001b[0;31mKeyError\u001b[0m: \"None of ['Start Date'] are in the columns\""
     ]
    }
   ],
   "source": [
    "df = df.set_index(\"Start Date\")\n"
   ]
  },
  {
   "cell_type": "code",
   "execution_count": 11,
   "metadata": {},
   "outputs": [
    {
     "output_type": "execute_result",
     "data": {
      "text/plain": [
       "PeriodIndex(['2011-08-03', '2011-08-04', '2011-08-05', '2011-08-06',\n",
       "             '2011-08-07', '2011-08-08', '2011-08-09', '2011-08-10',\n",
       "             '2011-08-11', '2011-08-12',\n",
       "             ...\n",
       "             '2019-12-22', '2019-12-23', '2019-12-24', '2019-12-25',\n",
       "             '2019-12-26', '2019-12-27', '2019-12-28', '2019-12-29',\n",
       "             '2019-12-30', '2019-12-31'],\n",
       "            dtype='period[D]', name='Start Date', length=17281, freq='D')"
      ]
     },
     "metadata": {},
     "execution_count": 11
    }
   ],
   "source": [
    "df.index = df.index.to_period(\"D\")"
   ]
  },
  {
   "cell_type": "code",
   "execution_count": 5,
   "metadata": {},
   "outputs": [
    {
     "output_type": "execute_result",
     "data": {
      "text/plain": [
       "            Label  Charging Time (mins)  Energy (kWh)  Total Duration (mins)  \\\n",
       "Start Date                                                                     \n",
       "2011-08-03    0.0            518.816402      1.679882             712.717196   \n",
       "2011-08-04    0.0            405.733598      1.899242             639.499471   \n",
       "2011-08-05    0.0            573.500000      1.574471             592.750000   \n",
       "2011-08-06    0.0            897.216667      1.982032            1274.100000   \n",
       "2011-08-07    0.0            252.950000      2.232860            1311.750000   \n",
       "\n",
       "            Port Number  CenterLon  CenterLat  Level 1  Level 2  \\\n",
       "Start Date                                                        \n",
       "2011-08-03         16.0    -122.16     37.445        0        8   \n",
       "2011-08-04         10.0    -122.16     37.445        0        5   \n",
       "2011-08-05         20.0    -122.16     37.445        0       10   \n",
       "2011-08-06         28.0    -122.16     37.445        0       14   \n",
       "2011-08-07          6.0    -122.16     37.445        0        3   \n",
       "\n",
       "            Energy (kWh)_lag1  ...  Year_Month_5  Year_Month_6  Year_Month_7  \\\n",
       "Start Date                     ...                                             \n",
       "2011-08-03           2.098609  ...             0             0             0   \n",
       "2011-08-04           1.679882  ...             0             0             0   \n",
       "2011-08-05           1.899242  ...             0             0             0   \n",
       "2011-08-06           1.574471  ...             0             0             0   \n",
       "2011-08-07           1.982032  ...             0             0             0   \n",
       "\n",
       "            Year_Month_8  Year_Month_9  Year_Month_10  Year_Month_11  \\\n",
       "Start Date                                                             \n",
       "2011-08-03             1             0              0              0   \n",
       "2011-08-04             1             0              0              0   \n",
       "2011-08-05             1             0              0              0   \n",
       "2011-08-06             1             0              0              0   \n",
       "2011-08-07             1             0              0              0   \n",
       "\n",
       "            Year_Month_12  is_holiday  is_weekend  \n",
       "Start Date                                         \n",
       "2011-08-03              0           0           0  \n",
       "2011-08-04              0           0           0  \n",
       "2011-08-05              0           0           0  \n",
       "2011-08-06              0           0           1  \n",
       "2011-08-07              0           0           1  \n",
       "\n",
       "[5 rows x 84 columns]"
      ],
      "text/html": "<div>\n<style scoped>\n    .dataframe tbody tr th:only-of-type {\n        vertical-align: middle;\n    }\n\n    .dataframe tbody tr th {\n        vertical-align: top;\n    }\n\n    .dataframe thead th {\n        text-align: right;\n    }\n</style>\n<table border=\"1\" class=\"dataframe\">\n  <thead>\n    <tr style=\"text-align: right;\">\n      <th></th>\n      <th>Label</th>\n      <th>Charging Time (mins)</th>\n      <th>Energy (kWh)</th>\n      <th>Total Duration (mins)</th>\n      <th>Port Number</th>\n      <th>CenterLon</th>\n      <th>CenterLat</th>\n      <th>Level 1</th>\n      <th>Level 2</th>\n      <th>Energy (kWh)_lag1</th>\n      <th>...</th>\n      <th>Year_Month_5</th>\n      <th>Year_Month_6</th>\n      <th>Year_Month_7</th>\n      <th>Year_Month_8</th>\n      <th>Year_Month_9</th>\n      <th>Year_Month_10</th>\n      <th>Year_Month_11</th>\n      <th>Year_Month_12</th>\n      <th>is_holiday</th>\n      <th>is_weekend</th>\n    </tr>\n    <tr>\n      <th>Start Date</th>\n      <th></th>\n      <th></th>\n      <th></th>\n      <th></th>\n      <th></th>\n      <th></th>\n      <th></th>\n      <th></th>\n      <th></th>\n      <th></th>\n      <th></th>\n      <th></th>\n      <th></th>\n      <th></th>\n      <th></th>\n      <th></th>\n      <th></th>\n      <th></th>\n      <th></th>\n      <th></th>\n      <th></th>\n    </tr>\n  </thead>\n  <tbody>\n    <tr>\n      <th>2011-08-03</th>\n      <td>0.0</td>\n      <td>518.816402</td>\n      <td>1.679882</td>\n      <td>712.717196</td>\n      <td>16.0</td>\n      <td>-122.16</td>\n      <td>37.445</td>\n      <td>0</td>\n      <td>8</td>\n      <td>2.098609</td>\n      <td>...</td>\n      <td>0</td>\n      <td>0</td>\n      <td>0</td>\n      <td>1</td>\n      <td>0</td>\n      <td>0</td>\n      <td>0</td>\n      <td>0</td>\n      <td>0</td>\n      <td>0</td>\n    </tr>\n    <tr>\n      <th>2011-08-04</th>\n      <td>0.0</td>\n      <td>405.733598</td>\n      <td>1.899242</td>\n      <td>639.499471</td>\n      <td>10.0</td>\n      <td>-122.16</td>\n      <td>37.445</td>\n      <td>0</td>\n      <td>5</td>\n      <td>1.679882</td>\n      <td>...</td>\n      <td>0</td>\n      <td>0</td>\n      <td>0</td>\n      <td>1</td>\n      <td>0</td>\n      <td>0</td>\n      <td>0</td>\n      <td>0</td>\n      <td>0</td>\n      <td>0</td>\n    </tr>\n    <tr>\n      <th>2011-08-05</th>\n      <td>0.0</td>\n      <td>573.500000</td>\n      <td>1.574471</td>\n      <td>592.750000</td>\n      <td>20.0</td>\n      <td>-122.16</td>\n      <td>37.445</td>\n      <td>0</td>\n      <td>10</td>\n      <td>1.899242</td>\n      <td>...</td>\n      <td>0</td>\n      <td>0</td>\n      <td>0</td>\n      <td>1</td>\n      <td>0</td>\n      <td>0</td>\n      <td>0</td>\n      <td>0</td>\n      <td>0</td>\n      <td>0</td>\n    </tr>\n    <tr>\n      <th>2011-08-06</th>\n      <td>0.0</td>\n      <td>897.216667</td>\n      <td>1.982032</td>\n      <td>1274.100000</td>\n      <td>28.0</td>\n      <td>-122.16</td>\n      <td>37.445</td>\n      <td>0</td>\n      <td>14</td>\n      <td>1.574471</td>\n      <td>...</td>\n      <td>0</td>\n      <td>0</td>\n      <td>0</td>\n      <td>1</td>\n      <td>0</td>\n      <td>0</td>\n      <td>0</td>\n      <td>0</td>\n      <td>0</td>\n      <td>1</td>\n    </tr>\n    <tr>\n      <th>2011-08-07</th>\n      <td>0.0</td>\n      <td>252.950000</td>\n      <td>2.232860</td>\n      <td>1311.750000</td>\n      <td>6.0</td>\n      <td>-122.16</td>\n      <td>37.445</td>\n      <td>0</td>\n      <td>3</td>\n      <td>1.982032</td>\n      <td>...</td>\n      <td>0</td>\n      <td>0</td>\n      <td>0</td>\n      <td>1</td>\n      <td>0</td>\n      <td>0</td>\n      <td>0</td>\n      <td>0</td>\n      <td>0</td>\n      <td>1</td>\n    </tr>\n  </tbody>\n</table>\n<p>5 rows × 84 columns</p>\n</div>"
     },
     "metadata": {},
     "execution_count": 5
    }
   ],
   "source": [
    "df.head()"
   ]
  },
  {
   "cell_type": "code",
   "execution_count": 6,
   "metadata": {},
   "outputs": [],
   "source": [
    "labels = df.Label.unique()"
   ]
  },
  {
   "cell_type": "code",
   "execution_count": 7,
   "metadata": {},
   "outputs": [
    {
     "output_type": "stream",
     "name": "stdout",
     "text": [
      "2011-08-03 00:00:00 2019-12-31 00:00:00\n"
     ]
    }
   ],
   "source": [
    "print(min(df.index), max(df.index))"
   ]
  },
  {
   "cell_type": "code",
   "execution_count": 9,
   "metadata": {},
   "outputs": [],
   "source": [
    "df_reindex = pd.DataFrame()"
   ]
  },
  {
   "cell_type": "code",
   "execution_count": 16,
   "metadata": {},
   "outputs": [],
   "source": [
    "idx = pd.period_range(min(df.index), max(df.index))\n",
    "for i in labels:\n",
    "    filling = df[df.Label == i].reindex(idx, fill_value = 0)\n",
    "    filling.Label = i\n",
    "    df_reindex = df_reindex.append(filling)\n"
   ]
  },
  {
   "cell_type": "code",
   "execution_count": 34,
   "metadata": {},
   "outputs": [],
   "source": [
    "m = modelling()"
   ]
  },
  {
   "cell_type": "code",
   "execution_count": 45,
   "metadata": {},
   "outputs": [],
   "source": [
    "X_train,X_test, X_val,y_train,y_test, y_val = m.ttsplit(df_reindex, shuffle = False)"
   ]
  }
 ]
}