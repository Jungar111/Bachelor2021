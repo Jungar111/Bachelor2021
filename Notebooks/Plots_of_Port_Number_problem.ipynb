{
 "cells": [
  {
   "cell_type": "code",
   "execution_count": 14,
   "metadata": {},
   "outputs": [],
   "source": [
    "import sys \n",
    "sys.path.append(\"..\")"
   ]
  },
  {
   "cell_type": "code",
   "execution_count": 15,
   "metadata": {},
   "outputs": [],
   "source": [
    "from DataPrep.Data_cleaning import clean_paloalto"
   ]
  },
  {
   "cell_type": "code",
   "execution_count": null,
   "metadata": {},
   "outputs": [],
   "source": []
  },
  {
   "cell_type": "code",
   "execution_count": 16,
   "metadata": {},
   "outputs": [],
   "source": [
    "import pandas as pd\n",
    "import seaborn as sns\n",
    "import matplotlib.pyplot as plt\n",
    "import numpy as np\n",
    "import scipy\n",
    "import math\n",
    "import plotly.express as px\n",
    "\n",
    "import numpy as np\n",
    "import pandas as pd\n",
    "import datetime as dt\n",
    "import time\n",
    "import matplotlib.pyplot as plt\n"
   ]
  },
  {
   "cell_type": "code",
   "execution_count": 6,
   "metadata": {},
   "outputs": [],
   "source": [
    "#class Buckets:\n",
    "#    def __init__(self):\n",
    "#        self.df = pd.read_csv('CenteredData.csv')\n",
    "#        self.df = self.to_date(self.df)\n",
    "#        self.df = self.to_float(self.df)\n",
    "#\n",
    "#\n",
    "#    def to_float(self,df):\n",
    "#        df[\"Charging Time (hh:mm:ss)\"][df[\"Charging Time (hh:mm:ss)\"]==\" -   \"]=0\n",
    "#        df[\"Charging Time (hh:mm:ss)\"]=df[\"Charging Time (hh:mm:ss)\"].dt.hour * 60 + df[\"Charging Time (hh:mm:ss)\"].dt.minute + df[\"Charging Time (hh:mm:ss)\"].dt.second/60\n",
    "#\n",
    "#        df[\"Total Duration (hh:mm:ss)\"][df[\"Total Duration (hh:mm:ss)\"]==\" -   \"]=0\n",
    "#        df[\"Total Duration (hh:mm:ss)\"]=df[\"Total Duration (hh:mm:ss)\"].dt.hour *60 + df[\"Total Duration (hh:mm:ss)\"].dt.minute + df[\"Total Duration (hh:mm:ss)\"].dt.second/60\n",
    "#        return df\n",
    "#\n",
    "#    def to_date(self,df):\n",
    "#        print(df.head())\n",
    "#        df[\"Start Date\"]=pd.to_datetime(df[\"Start Date\"],format=\"%Y-%m-%d %H:%M:%S\",errors=\"coerce\")\n",
    "#        df[\"End Date\"]=pd.to_datetime(df[\"End Date\"],format=\"%Y-%m-%d %H:%M:%S\",errors=\"coerce\")\n",
    "#\n",
    "#        df[\"Total Duration (hh:mm:ss)\"]=pd.to_datetime(df[\"Total Duration (hh:mm:ss)\"],format=\"%Y-%m-%d %H:%M:%S\")\n",
    "#        df[\"Charging Time (hh:mm:ss)\"]=pd.to_datetime(df[\"Charging Time (hh:mm:ss)\"],format=\"%Y-%m-%d %H:%M:%S\")\n",
    "#        return df\n",
    "#\n",
    "#    def proportionalsplit(self, s, freq=\"2H\"):\n",
    "#        '''\n",
    "#        From StackOverflow: https://stackoverflow.com/questions/66274081/how-to-discretize-time-series-with-overspilling-durations/66280942#66280942\n",
    "#        '''\n",
    "#        st = s[\"Start Date\"]\n",
    "#        etCharge = st + pd.Timedelta(minutes=s[\"Charging Time (hh:mm:ss)\"])\n",
    "#        trCharge = pd.date_range(st.floor(freq), etCharge, freq=freq)\n",
    "#        etPark = st + pd.Timedelta(minutes=s[\"Total Duration (hh:mm:ss)\"])\n",
    "#        trPark = pd.date_range(st.floor(freq), etPark, freq=freq)\n",
    "#        lmin = {\"2H\":120}\n",
    "#        # ratio of how numeric values should be split across new buckets\n",
    "#        ratioCharge = np.minimum((np.where(trCharge<st, trCharge.shift()-st, etCharge-trCharge)/(10**9*60)).astype(int), np.full(len(trCharge),lmin[freq]))\n",
    "#        ratioCharge = ratioCharge / ratioCharge.sum()\n",
    "#\n",
    "#        ratioPark = np.minimum((np.where(trPark<st, trPark.shift()-st, etPark-trPark)/(10**9*60)).astype(int), np.full(len(trPark),lmin[freq]))\n",
    "#        ratioPark = ratioCharge / ratioCharge.sum()\n",
    "#\n",
    "#        return {\"Start Date\":trCharge, \"Original Duration\":np.full(len(trCharge), s[\"Charging Time (hh:mm:ss)\"]), \n",
    "#                \"Original Start\":np.full(len(trCharge), s[\"Start Date\"]), \n",
    "#                \"Original Index\": np.full(len(trCharge), s.name),\n",
    "#                \"Charging Time (hh:mm:ss)\": s[\"Charging Time (hh:mm:ss)\"] * ratioCharge,\n",
    "#                \"Energy (kWh)\": s[\"Energy (kWh)\"] * ratioCharge,\n",
    "#                \"Total Duration (hh:mm:ss)\": s[\"Total Duration (hh:mm:ss)\"] * ratioPark,\n",
    "#                \"Longitude\": np.full(len(trCharge),s[\"CenterLon\"]), \"Latitude\": np.full(len(trCharge),s[\"Latitude\"]), \"Original Port Type\": np.full(len(trCharge),s[\"Port Type\"]), \"Port Number\": np.full(len(trCharge), s[\"Port Number\"]), \n",
    "#                \"Fee\": s[\"Fee\"] * ratioCharge, \"Label\": s[\"Label\"]\n",
    "#            }\n",
    "#\n",
    "#    def main(self):\n",
    "#        df2 = pd.concat([pd.DataFrame(v) for v in self.df.apply(self.proportionalsplit, axis=1).values]).reset_index(drop=True)\n",
    "#        # everything OK?\n",
    "#\n",
    "#\n",
    "#        # let's have a look at everything in 2H resample...\n",
    "#        df3 = df2.groupby([\"Start Date\"]).agg({**{c:lambda s: list(s) for c in df2.columns if \"Original\" in c},\n",
    "#                                        **{c:\"sum\" for c in [\"Charging Time (hh:mm:ss)\",\"Energy (kWh)\", \"Total Duration (hh:mm:ss)\", \"Port Number\"]}})\n",
    "#\n",
    "#\n",
    "#\n",
    "#        print(df2.head(20))\n",
    "#        print(df3.head(20))\n",
    "#\n",
    "#        #df2.to_csv(\"data\\createdDat\\TimeBuckets.csv\")\n",
    "#\n",
    "#        #end = time.time()\n",
    "#        #print(end - start)\n",
    "#        return df2, df3"
   ]
  },
  {
   "cell_type": "code",
   "execution_count": 17,
   "metadata": {},
   "outputs": [
    {
     "name": "stdout",
     "output_type": "stream",
     "text": [
      "   Unnamed: 0                Station Name       MAC Address  \\\n",
      "0           0  PALO ALTO CA / HAMILTON #1  000D6F00015A9D76   \n",
      "1           1  PALO ALTO CA / HAMILTON #1  000D6F00015A9D76   \n",
      "2           2  PALO ALTO CA / HAMILTON #1  000D6F00015A9D76   \n",
      "3           3  PALO ALTO CA / HAMILTON #1  000D6F00015A9D76   \n",
      "4           4  PALO ALTO CA / HAMILTON #1  000D6F00015A9D76   \n",
      "\n",
      "            Org Name           Start Date Start Time Zone  \\\n",
      "0  City of Palo Alto  2011-07-29 20:17:00             PDT   \n",
      "1  City of Palo Alto  2011-07-30 00:00:00             PDT   \n",
      "2  City of Palo Alto  2011-07-30 08:16:00             PDT   \n",
      "3  City of Palo Alto  2011-07-30 14:51:00             PDT   \n",
      "4  City of Palo Alto  2011-07-30 18:51:00             PDT   \n",
      "\n",
      "              End Date End Time Zone Total Duration (hh:mm:ss)  \\\n",
      "0  2011-07-29 23:20:00           PDT       1900-01-01 03:03:32   \n",
      "1  2011-07-30 00:02:00           PDT       1900-01-01 00:02:06   \n",
      "2  2011-07-30 12:34:00           PDT       1900-01-01 04:17:32   \n",
      "3  2011-07-30 16:55:00           PDT       1900-01-01 02:03:24   \n",
      "4  2011-07-30 20:03:00           PDT       1900-01-01 01:11:24   \n",
      "\n",
      "  Charging Time (hh:mm:ss)  ...  Fee             Ended By  Plug In Event Id  \\\n",
      "0      1900-01-01 01:54:03  ...  0.0  Plug Out at Vehicle                 3   \n",
      "1      1900-01-01 00:01:54  ...  0.0             Customer                 4   \n",
      "2      1900-01-01 04:17:28  ...  0.0  Plug Out at Vehicle                 5   \n",
      "3      1900-01-01 02:02:58  ...  0.0             Customer                 6   \n",
      "4      1900-01-01 00:43:54  ...  0.0  Plug Out at Vehicle                 7   \n",
      "\n",
      "  Driver Postal Code  User ID ID    Pairlocation Label CenterLon  CenterLat  \n",
      "0            95124.0   3284.0  0  37.445x-122.16     1   -122.16  37.444473  \n",
      "1            94301.0   4169.0  0  37.445x-122.16     1   -122.16  37.444473  \n",
      "2            94301.0   4169.0  0  37.445x-122.16     1   -122.16  37.444473  \n",
      "3            94302.0   2545.0  0  37.445x-122.16     1   -122.16  37.444473  \n",
      "4            94043.0   3765.0  0  37.445x-122.16     1   -122.16  37.444473  \n",
      "\n",
      "[5 rows x 34 columns]\n"
     ]
    },
    {
     "name": "stderr",
     "output_type": "stream",
     "text": [
      "<ipython-input-6-05292f05ad4c>:9: SettingWithCopyWarning: \n",
      "A value is trying to be set on a copy of a slice from a DataFrame\n",
      "\n",
      "See the caveats in the documentation: https://pandas.pydata.org/pandas-docs/stable/user_guide/indexing.html#returning-a-view-versus-a-copy\n",
      "  df[\"Charging Time (hh:mm:ss)\"][df[\"Charging Time (hh:mm:ss)\"]==\" -   \"]=0\n",
      "<ipython-input-6-05292f05ad4c>:12: SettingWithCopyWarning: \n",
      "A value is trying to be set on a copy of a slice from a DataFrame\n",
      "\n",
      "See the caveats in the documentation: https://pandas.pydata.org/pandas-docs/stable/user_guide/indexing.html#returning-a-view-versus-a-copy\n",
      "  df[\"Total Duration (hh:mm:ss)\"][df[\"Total Duration (hh:mm:ss)\"]==\" -   \"]=0\n"
     ]
    }
   ],
   "source": [
    "b = Buckets()"
   ]
  },
  {
   "cell_type": "code",
   "execution_count": 18,
   "metadata": {},
   "outputs": [],
   "source": [
    "df = b.df"
   ]
  },
  {
   "cell_type": "code",
   "execution_count": 19,
   "metadata": {},
   "outputs": [
    {
     "data": {
      "text/html": [
       "<div>\n",
       "<style scoped>\n",
       "    .dataframe tbody tr th:only-of-type {\n",
       "        vertical-align: middle;\n",
       "    }\n",
       "\n",
       "    .dataframe tbody tr th {\n",
       "        vertical-align: top;\n",
       "    }\n",
       "\n",
       "    .dataframe thead th {\n",
       "        text-align: right;\n",
       "    }\n",
       "</style>\n",
       "<table border=\"1\" class=\"dataframe\">\n",
       "  <thead>\n",
       "    <tr style=\"text-align: right;\">\n",
       "      <th></th>\n",
       "      <th>Unnamed: 0</th>\n",
       "      <th>Station Name</th>\n",
       "      <th>MAC Address</th>\n",
       "      <th>Org Name</th>\n",
       "      <th>Start Date</th>\n",
       "      <th>Start Time Zone</th>\n",
       "      <th>End Date</th>\n",
       "      <th>End Time Zone</th>\n",
       "      <th>Total Duration (hh:mm:ss)</th>\n",
       "      <th>Charging Time (hh:mm:ss)</th>\n",
       "      <th>...</th>\n",
       "      <th>Fee</th>\n",
       "      <th>Ended By</th>\n",
       "      <th>Plug In Event Id</th>\n",
       "      <th>Driver Postal Code</th>\n",
       "      <th>User ID</th>\n",
       "      <th>ID</th>\n",
       "      <th>Pairlocation</th>\n",
       "      <th>Label</th>\n",
       "      <th>CenterLon</th>\n",
       "      <th>CenterLat</th>\n",
       "    </tr>\n",
       "  </thead>\n",
       "  <tbody>\n",
       "    <tr>\n",
       "      <th>0</th>\n",
       "      <td>0</td>\n",
       "      <td>PALO ALTO CA / HAMILTON #1</td>\n",
       "      <td>000D6F00015A9D76</td>\n",
       "      <td>City of Palo Alto</td>\n",
       "      <td>2011-07-29 20:17:00</td>\n",
       "      <td>PDT</td>\n",
       "      <td>2011-07-29 23:20:00</td>\n",
       "      <td>PDT</td>\n",
       "      <td>183.533333</td>\n",
       "      <td>114.050000</td>\n",
       "      <td>...</td>\n",
       "      <td>0.00</td>\n",
       "      <td>Plug Out at Vehicle</td>\n",
       "      <td>3</td>\n",
       "      <td>95124.0</td>\n",
       "      <td>3284.0</td>\n",
       "      <td>0</td>\n",
       "      <td>37.445x-122.16</td>\n",
       "      <td>1</td>\n",
       "      <td>-122.160000</td>\n",
       "      <td>37.444473</td>\n",
       "    </tr>\n",
       "    <tr>\n",
       "      <th>1</th>\n",
       "      <td>1</td>\n",
       "      <td>PALO ALTO CA / HAMILTON #1</td>\n",
       "      <td>000D6F00015A9D76</td>\n",
       "      <td>City of Palo Alto</td>\n",
       "      <td>2011-07-30 00:00:00</td>\n",
       "      <td>PDT</td>\n",
       "      <td>2011-07-30 00:02:00</td>\n",
       "      <td>PDT</td>\n",
       "      <td>2.100000</td>\n",
       "      <td>1.900000</td>\n",
       "      <td>...</td>\n",
       "      <td>0.00</td>\n",
       "      <td>Customer</td>\n",
       "      <td>4</td>\n",
       "      <td>94301.0</td>\n",
       "      <td>4169.0</td>\n",
       "      <td>0</td>\n",
       "      <td>37.445x-122.16</td>\n",
       "      <td>1</td>\n",
       "      <td>-122.160000</td>\n",
       "      <td>37.444473</td>\n",
       "    </tr>\n",
       "    <tr>\n",
       "      <th>2</th>\n",
       "      <td>2</td>\n",
       "      <td>PALO ALTO CA / HAMILTON #1</td>\n",
       "      <td>000D6F00015A9D76</td>\n",
       "      <td>City of Palo Alto</td>\n",
       "      <td>2011-07-30 08:16:00</td>\n",
       "      <td>PDT</td>\n",
       "      <td>2011-07-30 12:34:00</td>\n",
       "      <td>PDT</td>\n",
       "      <td>257.533333</td>\n",
       "      <td>257.466667</td>\n",
       "      <td>...</td>\n",
       "      <td>0.00</td>\n",
       "      <td>Plug Out at Vehicle</td>\n",
       "      <td>5</td>\n",
       "      <td>94301.0</td>\n",
       "      <td>4169.0</td>\n",
       "      <td>0</td>\n",
       "      <td>37.445x-122.16</td>\n",
       "      <td>1</td>\n",
       "      <td>-122.160000</td>\n",
       "      <td>37.444473</td>\n",
       "    </tr>\n",
       "    <tr>\n",
       "      <th>3</th>\n",
       "      <td>3</td>\n",
       "      <td>PALO ALTO CA / HAMILTON #1</td>\n",
       "      <td>000D6F00015A9D76</td>\n",
       "      <td>City of Palo Alto</td>\n",
       "      <td>2011-07-30 14:51:00</td>\n",
       "      <td>PDT</td>\n",
       "      <td>2011-07-30 16:55:00</td>\n",
       "      <td>PDT</td>\n",
       "      <td>123.400000</td>\n",
       "      <td>122.966667</td>\n",
       "      <td>...</td>\n",
       "      <td>0.00</td>\n",
       "      <td>Customer</td>\n",
       "      <td>6</td>\n",
       "      <td>94302.0</td>\n",
       "      <td>2545.0</td>\n",
       "      <td>0</td>\n",
       "      <td>37.445x-122.16</td>\n",
       "      <td>1</td>\n",
       "      <td>-122.160000</td>\n",
       "      <td>37.444473</td>\n",
       "    </tr>\n",
       "    <tr>\n",
       "      <th>4</th>\n",
       "      <td>4</td>\n",
       "      <td>PALO ALTO CA / HAMILTON #1</td>\n",
       "      <td>000D6F00015A9D76</td>\n",
       "      <td>City of Palo Alto</td>\n",
       "      <td>2011-07-30 18:51:00</td>\n",
       "      <td>PDT</td>\n",
       "      <td>2011-07-30 20:03:00</td>\n",
       "      <td>PDT</td>\n",
       "      <td>71.400000</td>\n",
       "      <td>43.900000</td>\n",
       "      <td>...</td>\n",
       "      <td>0.00</td>\n",
       "      <td>Plug Out at Vehicle</td>\n",
       "      <td>7</td>\n",
       "      <td>94043.0</td>\n",
       "      <td>3765.0</td>\n",
       "      <td>0</td>\n",
       "      <td>37.445x-122.16</td>\n",
       "      <td>1</td>\n",
       "      <td>-122.160000</td>\n",
       "      <td>37.444473</td>\n",
       "    </tr>\n",
       "    <tr>\n",
       "      <th>...</th>\n",
       "      <td>...</td>\n",
       "      <td>...</td>\n",
       "      <td>...</td>\n",
       "      <td>...</td>\n",
       "      <td>...</td>\n",
       "      <td>...</td>\n",
       "      <td>...</td>\n",
       "      <td>...</td>\n",
       "      <td>...</td>\n",
       "      <td>...</td>\n",
       "      <td>...</td>\n",
       "      <td>...</td>\n",
       "      <td>...</td>\n",
       "      <td>...</td>\n",
       "      <td>...</td>\n",
       "      <td>...</td>\n",
       "      <td>...</td>\n",
       "      <td>...</td>\n",
       "      <td>...</td>\n",
       "      <td>...</td>\n",
       "      <td>...</td>\n",
       "    </tr>\n",
       "    <tr>\n",
       "      <th>249427</th>\n",
       "      <td>249427</td>\n",
       "      <td>PALO ALTO CA / TED THOMPSON #3</td>\n",
       "      <td>0024B10000029F81</td>\n",
       "      <td>City of Palo Alto</td>\n",
       "      <td>2020-12-31 16:39:00</td>\n",
       "      <td>PST</td>\n",
       "      <td>2020-12-31 17:14:00</td>\n",
       "      <td>PST</td>\n",
       "      <td>35.733333</td>\n",
       "      <td>35.300000</td>\n",
       "      <td>...</td>\n",
       "      <td>0.42</td>\n",
       "      <td>Plug Out at Vehicle</td>\n",
       "      <td>2369</td>\n",
       "      <td>94301.0</td>\n",
       "      <td>2024201.0</td>\n",
       "      <td>41</td>\n",
       "      <td>37.429x-122.144</td>\n",
       "      <td>7</td>\n",
       "      <td>-122.143998</td>\n",
       "      <td>37.428413</td>\n",
       "    </tr>\n",
       "    <tr>\n",
       "      <th>249428</th>\n",
       "      <td>249428</td>\n",
       "      <td>PALO ALTO CA / WEBSTER #1</td>\n",
       "      <td>0024B10000024233</td>\n",
       "      <td>City of Palo Alto</td>\n",
       "      <td>2020-12-31 16:48:00</td>\n",
       "      <td>PST</td>\n",
       "      <td>2020-12-31 20:31:00</td>\n",
       "      <td>PST</td>\n",
       "      <td>223.016667</td>\n",
       "      <td>134.066667</td>\n",
       "      <td>...</td>\n",
       "      <td>4.69</td>\n",
       "      <td>Plug Out at Vehicle</td>\n",
       "      <td>7255</td>\n",
       "      <td>94541.0</td>\n",
       "      <td>242661.0</td>\n",
       "      <td>34</td>\n",
       "      <td>37.448x-122.158</td>\n",
       "      <td>4</td>\n",
       "      <td>-122.158000</td>\n",
       "      <td>37.448135</td>\n",
       "    </tr>\n",
       "    <tr>\n",
       "      <th>249429</th>\n",
       "      <td>249429</td>\n",
       "      <td>PALO ALTO CA / MPL #4</td>\n",
       "      <td>0024B1000003CD37</td>\n",
       "      <td>City of Palo Alto</td>\n",
       "      <td>2020-12-31 17:28:00</td>\n",
       "      <td>PST</td>\n",
       "      <td>2021-01-01 10:56:00</td>\n",
       "      <td>PST</td>\n",
       "      <td>1048.233333</td>\n",
       "      <td>308.200000</td>\n",
       "      <td>...</td>\n",
       "      <td>6.82</td>\n",
       "      <td>Plug Out at Vehicle</td>\n",
       "      <td>455</td>\n",
       "      <td>94306.0</td>\n",
       "      <td>449995.0</td>\n",
       "      <td>53</td>\n",
       "      <td>37.422x-122.114</td>\n",
       "      <td>2</td>\n",
       "      <td>-122.113219</td>\n",
       "      <td>37.422000</td>\n",
       "    </tr>\n",
       "    <tr>\n",
       "      <th>249430</th>\n",
       "      <td>249430</td>\n",
       "      <td>PALO ALTO CA / WEBSTER #1</td>\n",
       "      <td>0024B10000024233</td>\n",
       "      <td>City of Palo Alto</td>\n",
       "      <td>2020-12-31 17:49:00</td>\n",
       "      <td>PST</td>\n",
       "      <td>2020-12-31 21:55:00</td>\n",
       "      <td>PST</td>\n",
       "      <td>245.566667</td>\n",
       "      <td>233.700000</td>\n",
       "      <td>...</td>\n",
       "      <td>2.75</td>\n",
       "      <td>Plug Out at Vehicle</td>\n",
       "      <td>7256</td>\n",
       "      <td>94552.0</td>\n",
       "      <td>804075.0</td>\n",
       "      <td>34</td>\n",
       "      <td>37.448x-122.158</td>\n",
       "      <td>4</td>\n",
       "      <td>-122.158000</td>\n",
       "      <td>37.448135</td>\n",
       "    </tr>\n",
       "    <tr>\n",
       "      <th>249431</th>\n",
       "      <td>249431</td>\n",
       "      <td>PALO ALTO CA / CAMBRIDGE #4</td>\n",
       "      <td>0024B10000033A0A</td>\n",
       "      <td>City of Palo Alto</td>\n",
       "      <td>2020-12-31 18:19:00</td>\n",
       "      <td>PST</td>\n",
       "      <td>2020-12-31 19:01:00</td>\n",
       "      <td>PST</td>\n",
       "      <td>42.116667</td>\n",
       "      <td>41.733333</td>\n",
       "      <td>...</td>\n",
       "      <td>0.36</td>\n",
       "      <td>Plug Out at Vehicle</td>\n",
       "      <td>2302</td>\n",
       "      <td>94305.0</td>\n",
       "      <td>2022651.0</td>\n",
       "      <td>48</td>\n",
       "      <td>37.426x-122.146</td>\n",
       "      <td>0</td>\n",
       "      <td>-122.146000</td>\n",
       "      <td>37.426045</td>\n",
       "    </tr>\n",
       "  </tbody>\n",
       "</table>\n",
       "<p>249432 rows × 34 columns</p>\n",
       "</div>"
      ],
      "text/plain": [
       "        Unnamed: 0                    Station Name       MAC Address  \\\n",
       "0                0      PALO ALTO CA / HAMILTON #1  000D6F00015A9D76   \n",
       "1                1      PALO ALTO CA / HAMILTON #1  000D6F00015A9D76   \n",
       "2                2      PALO ALTO CA / HAMILTON #1  000D6F00015A9D76   \n",
       "3                3      PALO ALTO CA / HAMILTON #1  000D6F00015A9D76   \n",
       "4                4      PALO ALTO CA / HAMILTON #1  000D6F00015A9D76   \n",
       "...            ...                             ...               ...   \n",
       "249427      249427  PALO ALTO CA / TED THOMPSON #3  0024B10000029F81   \n",
       "249428      249428       PALO ALTO CA / WEBSTER #1  0024B10000024233   \n",
       "249429      249429           PALO ALTO CA / MPL #4  0024B1000003CD37   \n",
       "249430      249430       PALO ALTO CA / WEBSTER #1  0024B10000024233   \n",
       "249431      249431     PALO ALTO CA / CAMBRIDGE #4  0024B10000033A0A   \n",
       "\n",
       "                  Org Name          Start Date Start Time Zone  \\\n",
       "0        City of Palo Alto 2011-07-29 20:17:00             PDT   \n",
       "1        City of Palo Alto 2011-07-30 00:00:00             PDT   \n",
       "2        City of Palo Alto 2011-07-30 08:16:00             PDT   \n",
       "3        City of Palo Alto 2011-07-30 14:51:00             PDT   \n",
       "4        City of Palo Alto 2011-07-30 18:51:00             PDT   \n",
       "...                    ...                 ...             ...   \n",
       "249427  City of Palo Alto  2020-12-31 16:39:00             PST   \n",
       "249428  City of Palo Alto  2020-12-31 16:48:00             PST   \n",
       "249429  City of Palo Alto  2020-12-31 17:28:00             PST   \n",
       "249430  City of Palo Alto  2020-12-31 17:49:00             PST   \n",
       "249431  City of Palo Alto  2020-12-31 18:19:00             PST   \n",
       "\n",
       "                  End Date End Time Zone  Total Duration (hh:mm:ss)  \\\n",
       "0      2011-07-29 23:20:00           PDT                 183.533333   \n",
       "1      2011-07-30 00:02:00           PDT                   2.100000   \n",
       "2      2011-07-30 12:34:00           PDT                 257.533333   \n",
       "3      2011-07-30 16:55:00           PDT                 123.400000   \n",
       "4      2011-07-30 20:03:00           PDT                  71.400000   \n",
       "...                    ...           ...                        ...   \n",
       "249427 2020-12-31 17:14:00           PST                  35.733333   \n",
       "249428 2020-12-31 20:31:00           PST                 223.016667   \n",
       "249429 2021-01-01 10:56:00           PST                1048.233333   \n",
       "249430 2020-12-31 21:55:00           PST                 245.566667   \n",
       "249431 2020-12-31 19:01:00           PST                  42.116667   \n",
       "\n",
       "        Charging Time (hh:mm:ss)  ...   Fee             Ended By  \\\n",
       "0                     114.050000  ...  0.00  Plug Out at Vehicle   \n",
       "1                       1.900000  ...  0.00             Customer   \n",
       "2                     257.466667  ...  0.00  Plug Out at Vehicle   \n",
       "3                     122.966667  ...  0.00             Customer   \n",
       "4                      43.900000  ...  0.00  Plug Out at Vehicle   \n",
       "...                          ...  ...   ...                  ...   \n",
       "249427                 35.300000  ...  0.42  Plug Out at Vehicle   \n",
       "249428                134.066667  ...  4.69  Plug Out at Vehicle   \n",
       "249429                308.200000  ...  6.82  Plug Out at Vehicle   \n",
       "249430                233.700000  ...  2.75  Plug Out at Vehicle   \n",
       "249431                 41.733333  ...  0.36  Plug Out at Vehicle   \n",
       "\n",
       "        Plug In Event Id Driver Postal Code    User ID  ID     Pairlocation  \\\n",
       "0                      3            95124.0     3284.0   0   37.445x-122.16   \n",
       "1                      4            94301.0     4169.0   0   37.445x-122.16   \n",
       "2                      5            94301.0     4169.0   0   37.445x-122.16   \n",
       "3                      6            94302.0     2545.0   0   37.445x-122.16   \n",
       "4                      7            94043.0     3765.0   0   37.445x-122.16   \n",
       "...                  ...                ...        ...  ..              ...   \n",
       "249427              2369            94301.0  2024201.0  41  37.429x-122.144   \n",
       "249428              7255            94541.0   242661.0  34  37.448x-122.158   \n",
       "249429               455            94306.0   449995.0  53  37.422x-122.114   \n",
       "249430              7256            94552.0   804075.0  34  37.448x-122.158   \n",
       "249431              2302            94305.0  2022651.0  48  37.426x-122.146   \n",
       "\n",
       "       Label   CenterLon  CenterLat  \n",
       "0          1 -122.160000  37.444473  \n",
       "1          1 -122.160000  37.444473  \n",
       "2          1 -122.160000  37.444473  \n",
       "3          1 -122.160000  37.444473  \n",
       "4          1 -122.160000  37.444473  \n",
       "...      ...         ...        ...  \n",
       "249427     7 -122.143998  37.428413  \n",
       "249428     4 -122.158000  37.448135  \n",
       "249429     2 -122.113219  37.422000  \n",
       "249430     4 -122.158000  37.448135  \n",
       "249431     0 -122.146000  37.426045  \n",
       "\n",
       "[249432 rows x 34 columns]"
      ]
     },
     "execution_count": 19,
     "metadata": {},
     "output_type": "execute_result"
    }
   ],
   "source": [
    "df"
   ]
  },
  {
   "cell_type": "code",
   "execution_count": 27,
   "metadata": {},
   "outputs": [
    {
     "data": {
      "text/plain": [
       "[0, 1, 2, 3, 4, 5, 6, 7]"
      ]
     },
     "execution_count": 27,
     "metadata": {},
     "output_type": "execute_result"
    }
   ],
   "source": [
    "sorted(df['Label'].unique())"
   ]
  },
  {
   "cell_type": "code",
   "execution_count": 28,
   "metadata": {},
   "outputs": [
    {
     "data": {
      "text/plain": [
       "Index(['Unnamed: 0', 'Station Name', 'MAC Address', 'Org Name', 'Start Date',\n",
       "       'Start Time Zone', 'End Date', 'End Time Zone',\n",
       "       'Total Duration (hh:mm:ss)', 'Charging Time (hh:mm:ss)', 'Energy (kWh)',\n",
       "       'GHG Savings (kg)', 'Gasoline Savings (gallons)', 'Port Type',\n",
       "       'Port Number', 'Plug Type', 'Address 1', 'City', 'State/Province',\n",
       "       'Postal Code', 'Country', 'Latitude', 'Longitude', 'Currency', 'Fee',\n",
       "       'Ended By', 'Plug In Event Id', 'Driver Postal Code', 'User ID', 'ID',\n",
       "       'Pairlocation', 'Label', 'CenterLon', 'CenterLat'],\n",
       "      dtype='object')"
      ]
     },
     "execution_count": 28,
     "metadata": {},
     "output_type": "execute_result"
    }
   ],
   "source": [
    "df.columns"
   ]
  },
  {
   "cell_type": "code",
   "execution_count": 68,
   "metadata": {},
   "outputs": [
    {
     "data": {
      "image/png": "[encoded data removed]",
      "text/plain": [
       "<Figure size 432x288 with 1 Axes>"
      ]
     },
     "metadata": {
      "needs_background": "light"
     },
     "output_type": "display_data"
    }
   ],
   "source": [
    "colors = ['black', 'blue']\n",
    "plt.plot(df[(df['Label'] == 1) & (df['Plug Type'] == 'NEMA 5-20R')]['Start Date'], df[(df['Label'] == 1) & (df['Plug Type'] == 'NEMA 5-20R')]['Port Number'], '.', color = colors[1])\n",
    "\n",
    "plt.show() #'NEMA 5-20R'\n"
   ]
  },
  {
   "cell_type": "code",
   "execution_count": 64,
   "metadata": {},
   "outputs": [
    {
     "name": "stdout",
     "output_type": "stream",
     "text": [
      "J1772\n",
      "NEMA 5-20R\n"
     ]
    }
   ],
   "source": [
    "Plugs = ['J1772' , 'NEMA 5-20R']\n",
    "for j in range(0,2): \n",
    "    print(Plugs[j])"
   ]
  },
  {
   "cell_type": "code",
   "execution_count": 107,
   "metadata": {},
   "outputs": [
    {
     "data": {
      "image/png": "[encoded data removed]",
      "text/plain": [
       "<Figure size 432x288 with 1 Axes>"
      ]
     },
     "metadata": {
      "needs_background": "light"
     },
     "output_type": "display_data"
    },
    {
     "data": {
      "image/png": "[encoded data removed]",
      "text/plain": [
       "<Figure size 432x288 with 1 Axes>"
      ]
     },
     "metadata": {
      "needs_background": "light"
     },
     "output_type": "display_data"
    },
    {
     "data": {
      "image/png": "[encoded data removed]",
      "text/plain": [
       "<Figure size 432x288 with 1 Axes>"
      ]
     },
     "metadata": {
      "needs_background": "light"
     },
     "output_type": "display_data"
    },
    {
     "data": {
      "image/png": "[encoded data removed]",
      "text/plain": [
       "<Figure size 432x288 with 1 Axes>"
      ]
     },
     "metadata": {
      "needs_background": "light"
     },
     "output_type": "display_data"
    },
    {
     "data": {
      "image/png": "[encoded data removed]",
      "text/plain": [
       "<Figure size 432x288 with 1 Axes>"
      ]
     },
     "metadata": {
      "needs_background": "light"
     },
     "output_type": "display_data"
    },
    {
     "data": {
      "image/png": "[encoded data removed]",
      "text/plain": [
       "<Figure size 432x288 with 1 Axes>"
      ]
     },
     "metadata": {
      "needs_background": "light"
     },
     "output_type": "display_data"
    },
    {
     "data": {
      "image/png": "[encoded data removed]",
      "text/plain": [
       "<Figure size 432x288 with 1 Axes>"
      ]
     },
     "metadata": {
      "needs_background": "light"
     },
     "output_type": "display_data"
    },
    {
     "data": {
      "image/png": "[encoded data removed]",
      "text/plain": [
       "<Figure size 432x288 with 1 Axes>"
      ]
     },
     "metadata": {
      "needs_background": "light"
     },
     "output_type": "display_data"
    }
   ],
   "source": [
    "nrSt = [2,2,3,1,2,2,2,3]\n",
    "Plugs = ['J1772' , 'NEMA 5-20R']\n",
    "colors = ['black', 'blue']\n",
    "for i in range(0,8):\n",
    "    for j in range(0,2):\n",
    "        plt.plot(df[(df['Label'] == i) & (df['Plug Type'] == Plugs[j])]['Start Date'], df[(df['Label'] == i) & (df['Plug Type'] == Plugs[j])]['Port Number'], '.', color = colors[j])\n",
    "        plt.title(f'Label = {i} ({nrSt[i]} stations)')\n",
    "        plt.legend(Plugs)\n",
    "    plt.show()"
   ]
  },
  {
   "cell_type": "markdown",
   "metadata": {},
   "source": [
    "So the question is: \n",
    "How many plugs, and of what types, do we have at the different Labels on a given time? "
   ]
  },
  {
   "cell_type": "code",
   "execution_count": 95,
   "metadata": {},
   "outputs": [],
   "source": []
  }
 ],
 "metadata": {
  "kernelspec": {
   "display_name": "Python 3",
   "language": "python",
   "name": "python3"
  },
  "language_info": {
   "codemirror_mode": {
    "name": "ipython",
    "version": 3
   },
   "file_extension": ".py",
   "mimetype": "text/x-python",
   "name": "python",
   "nbconvert_exporter": "python",
   "pygments_lexer": "ipython3",
   "version": "3.8.3"
  }
 },
 "nbformat": 4,
 "nbformat_minor": 4
}
